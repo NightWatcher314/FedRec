{
 "cells": [
  {
   "cell_type": "code",
   "execution_count": 7,
   "metadata": {},
   "outputs": [],
   "source": [
    "import pandas as pd\n",
    "import ipywidgets as widgets\n",
    "from IPython.display import display, clear_output\n",
    "import numpy as np\n",
    "import torch\n",
    "import sys\n",
    "import matplotlib.pyplot as plt\n",
    "import torch.nn as nn\n",
    "import traceback\n",
    "import pickle\n",
    "import random\n",
    "import torch.nn.functional as F\n",
    "import os\n",
    "from tqdm import tqdm\n",
    "from torch.utils.data import Dataset, DataLoader\n",
    "from torch.nn.utils.rnn import pad_sequence\n",
    "from sentence_transformers import SentenceTransformer\n",
    "from sklearn.metrics import mean_squared_error\n",
    "from sklearn.model_selection import train_test_split\n",
    "from sklearn.preprocessing import LabelEncoder\n",
    "from deepctr_torch.inputs import SparseFeat, VarLenSparseFeat, get_feature_names\n",
    "from deepctr_torch.models.din import DIN\n",
    "from deepctr_torch.models import DeepFM\n",
    "import flwr as fl\n",
    "from collections import OrderedDict\n",
    "from typing import List, Tuple\n",
    "from flwr.common import (\n",
    "    Code,\n",
    "    EvaluateIns,\n",
    "    EvaluateRes,\n",
    "    FitIns,\n",
    "    FitRes,\n",
    "    GetParametersIns,\n",
    "    GetParametersRes,\n",
    "    Status,\n",
    "    ndarrays_to_parameters,\n",
    "    parameters_to_ndarrays,\n",
    ")\n",
    "\n",
    "np.random.seed(42)"
   ]
  },
  {
   "cell_type": "code",
   "execution_count": 8,
   "metadata": {},
   "outputs": [],
   "source": [
    "\n",
    "def get_data(df):\n",
    "    data = df.copy()\n",
    "    sparse_features = [\"movieId\", \"userId\",\n",
    "                       \"gender\", \"age\", \"occupation\", \"zipCode\"]\n",
    "    target = ['rating']\n",
    "    for feat in sparse_features:\n",
    "        lbe = LabelEncoder()\n",
    "        data[feat] = lbe.fit_transform(data[feat])\n",
    "    # data['rating'] = data['rating'].apply(lambda x: 1 if x > 3 else 0)\n",
    "\n",
    "    # 2.count #unique features for each sparse field\n",
    "    fixlen_feature_columns = [SparseFeat(feat, data[feat].nunique(), embedding_dim=4)\n",
    "                              for feat in sparse_features]\n",
    "\n",
    "    linear_feature_columns = fixlen_feature_columns\n",
    "    dnn_feature_columns = fixlen_feature_columns\n",
    "\n",
    "    feature_names = get_feature_names(\n",
    "        linear_feature_columns + dnn_feature_columns)\n",
    "\n",
    "    return data, feature_names,\n",
    "\n",
    "\n",
    "def show_chart(df):\n",
    "    def plot_histogram(bins):\n",
    "        plt.figure(figsize=(8, 6))\n",
    "        plt.hist(df['rating'], bins=bins, color='skyblue', edgecolor='black')\n",
    "        plt.title('Rating Distribution')\n",
    "        plt.xlabel('Rating')\n",
    "        plt.ylabel('Count')\n",
    "        plt.show()\n",
    "\n",
    "    # 创建滑块小部件\n",
    "    bins_slider = widgets.IntSlider(\n",
    "        value=10, min=1, max=20, step=1, description='Bins:')\n",
    "    output = widgets.Output()\n",
    "\n",
    "    # 柱状图交互\n",
    "    def interactive_plot(change):\n",
    "        with output:\n",
    "            clear_output()\n",
    "            plot_histogram(bins_slider.value)\n",
    "\n",
    "    bins_slider.observe(interactive_plot, names='value')\n",
    "    interactive_plot(None)\n",
    "\n",
    "    # 显示滑块和柱状图\n",
    "    display(bins_slider)\n",
    "    display(output)\n",
    "\n",
    "\n",
    "def show_movie_list(df):\n",
    "    rows_per_page = 10\n",
    "    # 创建两个按钮，一个用于下一页，一个用于上一页\n",
    "    next_button = widgets.Button(description='下一页')\n",
    "    prev_button = widgets.Button(description='上一页')\n",
    "    page_label = widgets.Label()\n",
    "    # 创建数据显示表格\n",
    "    output = widgets.Output()\n",
    "    current_page = 1\n",
    "\n",
    "    def show_table(page_number):\n",
    "        with output:\n",
    "            clear_output()  # 清除上一页的内容\n",
    "            start_idx = (page_number - 1) * rows_per_page\n",
    "            end_idx = page_number * rows_per_page\n",
    "            display(df.iloc[start_idx:end_idx])\n",
    "            page_label.value = f'页数: {page_number}'\n",
    "\n",
    "    show_table(current_page)\n",
    "\n",
    "    def next_page(b):\n",
    "        nonlocal current_page\n",
    "        current_page += 1\n",
    "        if current_page > len(df) // rows_per_page:\n",
    "            current_page = len(df) // rows_per_page\n",
    "        show_table(current_page)\n",
    "\n",
    "    def prev_page(b):\n",
    "        nonlocal current_page\n",
    "        current_page -= 1\n",
    "        if current_page < 1:\n",
    "            current_page = 1\n",
    "        show_table(current_page)\n",
    "\n",
    "    next_button.on_click(next_page)\n",
    "    prev_button.on_click(prev_page)\n",
    "    # 显示表格、按钮和标签\n",
    "    display(output)\n",
    "    display(widgets.HBox([prev_button, next_button, page_label]))\n",
    "\n",
    "\n",
    "def get_all_rating_one_user(model, movie_df, user_df, user_id):\n",
    "    # 获取用户信息\n",
    "    user_info = user_df[user_df['userId'] == user_id]\n",
    "\n",
    "    # 为每个电影添加相同的用户信息\n",
    "    movie_df['userId'] = user_info['userId'].values[0]  # 设置用户ID为指定用户\n",
    "    movie_df['gender'] = user_info['gender'].values[0]  # 设置性别为指定用户\n",
    "    movie_df['age'] = user_info['age'].values[0]  # 设置年龄为指定用户\n",
    "    movie_df['occupation'] = user_info['occupation'].values[0]  # 设置职业为指定用户\n",
    "    movie_df['zipCode'] = user_info['zipCode'].values[0]  # 设置邮编为指定用户\n",
    "\n",
    "    # 获取电影评分（这部分你的代码需要根据你的模型和数据来完成）\n",
    "    # movie_df['rating'] = model.predict(movie_df)  # 你需要根据你的模型来预测评分\n",
    "\n",
    "    # 仅保留需要的列\n",
    "    sparse_features = [\"movieId\", \"userId\", \"gender\",\n",
    "                       \"age\", \"occupation\", \"zipCode\"]\n",
    "    data = movie_df[sparse_features]\n",
    "\n",
    "    data, feature_names = get_data(\n",
    "        data)\n",
    "    model_input = {name: data[name] for name in feature_names}\n",
    "    # pred_ans = model.predict(model_input, batch_size=256)\n",
    "    np.random.seed(user_id)\n",
    "    movie_df['rating'] = np.random.normal(loc=3, scale=1, size=len(movie_df))\n",
    "    movie_df['rating'] = movie_df['rating'].clip(0, 5)\n",
    "    movie_df.sort_values(by='rating', ascending=False, inplace=True)\n",
    "    return movie_df"
   ]
  },
  {
   "cell_type": "code",
   "execution_count": 9,
   "metadata": {},
   "outputs": [
    {
     "data": {
      "application/vnd.jupyter.widget-view+json": {
       "model_id": "0bacdc11cd604b74a6483176cb90d0fc",
       "version_major": 2,
       "version_minor": 0
      },
      "text/plain": [
       "Output()"
      ]
     },
     "metadata": {},
     "output_type": "display_data"
    },
    {
     "data": {
      "application/vnd.jupyter.widget-view+json": {
       "model_id": "866c3babc6a04d41819afc30e28a9a0b",
       "version_major": 2,
       "version_minor": 0
      },
      "text/plain": [
       "HBox(children=(Button(description='上一页', style=ButtonStyle()), Button(description='下一页', style=ButtonStyle()),…"
      ]
     },
     "metadata": {},
     "output_type": "display_data"
    },
    {
     "data": {
      "application/vnd.jupyter.widget-view+json": {
       "model_id": "d3e6e2d3205e49d7b2c724afb0ce5b45",
       "version_major": 2,
       "version_minor": 0
      },
      "text/plain": [
       "IntSlider(value=10, description='Bins:', max=20, min=1)"
      ]
     },
     "metadata": {},
     "output_type": "display_data"
    },
    {
     "data": {
      "application/vnd.jupyter.widget-view+json": {
       "model_id": "034916e0d0064f97939e61a3d676e937",
       "version_major": 2,
       "version_minor": 0
      },
      "text/plain": [
       "Output()"
      ]
     },
     "metadata": {},
     "output_type": "display_data"
    }
   ],
   "source": [
    "%matplotlib inline\n",
    "\n",
    "feature_names = pickle.load(open('feature_names.pkl', 'rb'))\n",
    "linear_feature_columns = pickle.load(open('linear_feature_columns.pkl', 'rb'))\n",
    "dnn_feature_columns = pickle.load(open('dnn_feature_columns.pkl', 'rb'))\n",
    "device = 'cpu'\n",
    "model = DeepFM(linear_feature_columns, dnn_feature_columns, dnn_hidden_units=(512, 256, 128),\n",
    "               task='regression', device=device)\n",
    "model.compile(\"adam\", \"mse\", metrics=['mse'], )\n",
    "model.load_state_dict(torch.load('model.pkl'))\n",
    "movie_df = pd.read_csv('ml-1m/movies.csv')\n",
    "user_df = pd.read_csv('ml-1m/users.csv')\n",
    "\n",
    "# 创建输入框和按钮\n",
    "input_text = widgets.Text(placeholder='输入文本', description='文本框:')\n",
    "execute_button = widgets.Button(description='执行')\n",
    "# 创建输出小部件以显示结果\n",
    "output = widgets.Output()\n",
    "\n",
    "#user_id\n",
    "rating_df = get_all_rating_one_user(model, movie_df, user_df, 111)\n",
    "show_movie_list(rating_df)\n",
    "show_chart(rating_df)\n",
    "\n",
    "\n"
   ]
  },
  {
   "cell_type": "code",
   "execution_count": null,
   "metadata": {},
   "outputs": [],
   "source": []
  }
 ],
 "metadata": {
  "kernelspec": {
   "display_name": "torch",
   "language": "python",
   "name": "python3"
  },
  "language_info": {
   "codemirror_mode": {
    "name": "ipython",
    "version": 3
   },
   "file_extension": ".py",
   "mimetype": "text/x-python",
   "name": "python",
   "nbconvert_exporter": "python",
   "pygments_lexer": "ipython3",
   "version": "3.9.18"
  },
  "orig_nbformat": 4
 },
 "nbformat": 4,
 "nbformat_minor": 2
}
