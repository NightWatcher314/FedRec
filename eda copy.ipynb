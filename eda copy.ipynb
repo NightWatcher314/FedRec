{
 "cells": [
  {
   "cell_type": "code",
   "execution_count": 45,
   "metadata": {},
   "outputs": [],
   "source": [
    "import pandas as pd\n",
    "import numpy as np\n",
    "import torch\n",
    "import sys\n",
    "import torch.nn as nn\n",
    "import traceback\n",
    "import random\n",
    "import torch.nn.functional as F\n",
    "import os\n",
    "from tqdm import tqdm\n",
    "from torch.utils.data import Dataset, DataLoader\n",
    "from sentence_transformers import SentenceTransformer\n",
    "\n",
    "np.random.seed(42)"
   ]
  },
  {
   "cell_type": "code",
   "execution_count": 46,
   "metadata": {},
   "outputs": [],
   "source": [
    "class DatasetCFG:\n",
    "    data_root='ml-25m'\n",
    "    user_chosen_num=1000\n",
    "    num_negatives=1"
   ]
  },
  {
   "cell_type": "markdown",
   "metadata": {},
   "source": [
    "### 获取训练数据\n"
   ]
  },
  {
   "cell_type": "code",
   "execution_count": 47,
   "metadata": {},
   "outputs": [],
   "source": [
    "class MovieLensDataset(Dataset):\n",
    "    '''\n",
    "        ratings_data: userId|user_behavior|rating|movieId|title|genres\n",
    "    '''\n",
    "    def __init__(self,ratings_data,mode='train'):        \n",
    "        self.user_ids,self.user_behaviors,self.movie_ids,self.movie_titles,self.movie_genres,self.labels=self.generate_dataset(ratings_data,mode)\n",
    "        \n",
    "    def __getitem__(self, index):\n",
    "        return self.user_ids[index],self.user_behaviors[index],self.movie_ids[index],self.movie_titles[index],self.movie_genres[index],self.labels[index]\n",
    "        \n",
    "    def __len__(self):\n",
    "        return len(self.user_ids)\n",
    "    \n",
    "    def generate_dataset(self,ratings_data,mode='train'):\n",
    "        movie_id_title_genres_list=list(set(zip(ratings_data['movieId'],ratings_data['title'],ratings_data['genres'])))\n",
    "        \n",
    "        user_item_set = set(zip(ratings_data['userId'], ratings_data['movieId']))\n",
    "        user_ids,user_behaviors,movie_ids,movie_titles,movie_genres,labels=[],[],[],[],[],[]\n",
    "        for rating in ratings_data.itertuples():\n",
    "            user_id=getattr(rating,'userId')\n",
    "            user_behavior=getattr(rating,'user_behavior')\n",
    "            movie_id=getattr(rating,'movieId')\n",
    "            movie_title=getattr(rating,'title')\n",
    "            movie_genre=getattr(rating,'genres')\n",
    "            if mode=='train':\n",
    "                for _ in range(DatasetCFG.num_negatives):\n",
    "                    negative_movie= random.choice(movie_id_title_genres_list)\n",
    "                    while (user_id, negative_movie[0]) in user_item_set:\n",
    "                        negative_movie= random.choice(movie_id_title_genres_list)\n",
    "                    user_ids.append(str(user_id))\n",
    "                    user_behaviors.append(user_behavior)\n",
    "                    movie_ids.append(str(negative_movie[0]))\n",
    "                    movie_titles.append(negative_movie[1])\n",
    "                    movie_genres.append(negative_movie[2])\n",
    "                    labels.append(0)\n",
    "            user_ids.append(str(user_id))\n",
    "            user_behaviors.append(user_behavior)\n",
    "            movie_ids.append(str(movie_id))\n",
    "            movie_titles.append(movie_title)\n",
    "            movie_genres.append(movie_genre)\n",
    "            labels.append(1)\n",
    "        return user_ids,user_behaviors,movie_ids,movie_titles,movie_genres,labels\n",
    "\n",
    "\n",
    "def data_preprocess():\n",
    "    ratings_path=os.path.join(DatasetCFG.data_root,'ratings.csv')\n",
    "    movies_path=os.path.join(DatasetCFG.data_root,'movies.csv')\n",
    "    ratings_data=pd.read_csv(ratings_path)\n",
    "    movies_data=pd.read_csv(movies_path)\n",
    "     \n",
    "    random_user_ids=np.random.choice(ratings_data['userId'].unique(), \n",
    "                                size=int(len(ratings_data['userId'].unique())*0.01), \n",
    "                                replace=False)\n",
    "    ratings_data=ratings_data[ratings_data['userId'].isin(random_user_ids)]    \n",
    "\n",
    "    ratings_data=ratings_data.merge(movies_data,on='movieId')\n",
    "    ratings_data['rank_latest'] = ratings_data.groupby(['userId'])['timestamp'].rank(method='first', ascending=True)\n",
    "    \n",
    "    ratings_data=ratings_data.sort_values(['userId','rank_latest'],ascending=[True,False]).reset_index(drop=True)\n",
    "    \n",
    "    for _, group in tqdm(ratings_data.groupby('userId'),total=len(ratings_data['userId'].unique())):\n",
    "        user_behavior_list = []\n",
    "        for _, row in group.iterrows():\n",
    "            user_behavior_list.append(\" \".join(map(str,group[group['rank_latest'] < row['rank_latest']]['movieId'].to_list())))\n",
    "        ratings_data.loc[group.index,'user_behavior'] = user_behavior_list\n",
    "        \n",
    "    ratings_data.to_csv(os.path.join(DatasetCFG.data_root,'ratings_data_process_001.csv'),index=False)\n",
    "\n",
    "def spilt_train_test():\n",
    "    ratings_data=pd.read_csv(os.path.join(DatasetCFG.data_root,'ratings_data_process_0001.csv'))\n",
    "    ratings_train=ratings_data[ratings_data['rank_latest']!=ratings_data.groupby('userId')['rank_latest'].transform('max')]\n",
    "    ratings_test=ratings_data[ratings_data['rank_latest']==ratings_data.groupby('userId')['rank_latest'].transform('max')]\n",
    "    return ratings_train,ratings_test\n",
    "        "
   ]
  },
  {
   "cell_type": "code",
   "execution_count": 48,
   "metadata": {},
   "outputs": [],
   "source": [
    "class Net(nn.Module):\n",
    "    def __init__(self,device):\n",
    "        super(Net, self).__init__()\n",
    "        self.device = device\n",
    "        \n",
    "        \n",
    "        self.embedding =SentenceTransformer('models/all_datasets_v4_MiniLM-L6')\n",
    "        for param in self.embedding.parameters():\n",
    "            param.requires_grad = False\n",
    "            \n",
    "        self.user_fc1=nn.Linear(384*2,512)\n",
    "        self.user_fc2=nn.Linear(512,128)\n",
    "        \n",
    "        self.movie_fc1=nn.Linear(384*3,512)\n",
    "        self.movie_fc2=nn.Linear(512,128)\n",
    "        \n",
    "        self.relu=nn.ReLU()\n",
    "        \n",
    "        self.to(device)\n",
    "        \n",
    "    def forward(self,user_id,user_behavior,movie_id,movie_title,movie_genre):\n",
    "        # display(user_id,user_behavior,movie_id,movie_title,movie_genre)\n",
    "        user_id_embedding=torch.tensor(self.embedding.encode(user_id)).requires_grad_(True)\n",
    "        user_behavior_embedding=torch.tensor(self.embedding.encode(user_behavior)).requires_grad_(True)\n",
    "        movie_id_embedding=torch.tensor(self.embedding.encode(movie_id),requires_grad=True).requires_grad_(True)\n",
    "        movie_title_embedding=torch.tensor(self.embedding.encode(movie_title),requires_grad=True).requires_grad_(True)\n",
    "        movie_genre_embedding=torch.tensor(self.embedding.encode(movie_genre),requires_grad=True).requires_grad_(True)\n",
    "        # display(user_id_embedding.shape,user_behavior_embedding.shape,movie_id_embedding.shape,movie_title_embedding.shape,movie_genre_embedding.shape)\n",
    "        \n",
    "        user_embedding=torch.cat([user_id_embedding,user_behavior_embedding],dim=1)\n",
    "        movie_embedding=torch.cat([movie_id_embedding,movie_title_embedding,movie_genre_embedding],dim=1)\n",
    "        \n",
    "        user_embedding=user_embedding.to(self.device)\n",
    "        movie_embedding=movie_embedding.to(self.device)\n",
    "        \n",
    "        user_out=self.user_fc1(user_embedding)\n",
    "        user_out=self.relu(user_out)\n",
    "        user_out=self.user_fc2(user_out)\n",
    "        \n",
    "        movie_out=self.movie_fc1(movie_embedding)\n",
    "        movie_out=self.relu(movie_out)\n",
    "        movie_out=self.movie_fc2(movie_out)\n",
    "        \n",
    "        result=user_out*movie_out\n",
    "        result=torch.sum(result,dim=1)\n",
    "\n",
    "        return result"
   ]
  },
  {
   "cell_type": "code",
   "execution_count": 49,
   "metadata": {},
   "outputs": [
    {
     "name": "stderr",
     "output_type": "stream",
     "text": [
      "  0%|          | 0/1453 [00:00<?, ?it/s]/tmp/ipykernel_54826/1916966779.py:17: UserWarning: To copy construct from a tensor, it is recommended to use sourceTensor.clone().detach() or sourceTensor.clone().detach().requires_grad_(True), rather than torch.tensor(sourceTensor).\n",
      "  label = torch.tensor(label).float().to(device)\n",
      "100%|██████████| 1453/1453 [01:01<00:00, 23.69it/s]\n"
     ]
    },
    {
     "name": "stdout",
     "output_type": "stream",
     "text": [
      "epoch:0,loss:0.21748881042003632\n"
     ]
    },
    {
     "name": "stderr",
     "output_type": "stream",
     "text": [
      "100%|██████████| 1453/1453 [01:01<00:00, 23.70it/s]\n"
     ]
    },
    {
     "name": "stdout",
     "output_type": "stream",
     "text": [
      "epoch:1,loss:0.19047461450099945\n"
     ]
    },
    {
     "name": "stderr",
     "output_type": "stream",
     "text": [
      "100%|██████████| 1453/1453 [01:01<00:00, 23.70it/s]\n"
     ]
    },
    {
     "name": "stdout",
     "output_type": "stream",
     "text": [
      "epoch:2,loss:0.18516449630260468\n"
     ]
    },
    {
     "name": "stderr",
     "output_type": "stream",
     "text": [
      "100%|██████████| 1453/1453 [01:01<00:00, 23.69it/s]\n"
     ]
    },
    {
     "name": "stdout",
     "output_type": "stream",
     "text": [
      "epoch:3,loss:0.18581750988960266\n"
     ]
    },
    {
     "name": "stderr",
     "output_type": "stream",
     "text": [
      "100%|██████████| 1453/1453 [01:01<00:00, 23.71it/s]"
     ]
    },
    {
     "name": "stdout",
     "output_type": "stream",
     "text": [
      "epoch:4,loss:0.1869128942489624\n"
     ]
    },
    {
     "name": "stderr",
     "output_type": "stream",
     "text": [
      "\n"
     ]
    }
   ],
   "source": [
    "device='cuda' if torch.cuda.is_available() else 'cpu'\n",
    "\n",
    "ratings_train,ratings_test=spilt_train_test()\n",
    "train_dataset=MovieLensDataset(ratings_train,mode='train')\n",
    "test_dataset=MovieLensDataset(ratings_test,mode='test')\n",
    "\n",
    "train_dataloader=DataLoader(train_dataset,batch_size=32,shuffle=False)\n",
    "test_dataloader=DataLoader(test_dataset,batch_size=1,shuffle=False)\n",
    "\n",
    "model=Net(device)\n",
    "optimizer = torch.optim.SGD(filter(lambda p: p.requires_grad, model.parameters()), lr=0.01)\n",
    "criterion = nn.MSELoss()\n",
    "\n",
    "for epoch in range(5):\n",
    "    for  batch in tqdm(train_dataloader,total=len(train_dataloader)):\n",
    "        user_id,user_behavior,movie_id,movie_title,movie_genre,label=batch\n",
    "        label = torch.tensor(label).float().to(device)\n",
    "        optimizer.zero_grad()\n",
    "        out=model(user_id,user_behavior,movie_id,movie_title,movie_genre)\n",
    "        loss=criterion(out,label)\n",
    "        loss.backward()\n",
    "        optimizer.step()\n",
    "    print(\"epoch:{},loss:{}\".format(epoch,loss.item()))\n",
    "\n"
   ]
  },
  {
   "cell_type": "code",
   "execution_count": 50,
   "metadata": {},
   "outputs": [
    {
     "data": {
      "text/plain": [
       "torch.Size([384])"
      ]
     },
     "metadata": {},
     "output_type": "display_data"
    }
   ],
   "source": [
    "model=SentenceTransformer('models/all_datasets_v4_MiniLM-L6')\n",
    "text1='dsadsad sdasdasdas dsadas'\n",
    "encode1=torch.tensor(model.encode(text1))\n",
    "# display(encode1)\n",
    "text2='1 2 3 4 5 6'\n",
    "encode2=torch.tensor(model.encode(text2))\n",
    "# c=torch.stack([encode1,encode2]).mean(dim=0)\n",
    "display(encode1.shape)\n",
    "# display(torch.cat([encode1,encode2],dim=0))\n",
    "\n",
    "# display(F.cosine_similarity(encode1,encode2,dim=0))"
   ]
  }
 ],
 "metadata": {
  "kernelspec": {
   "display_name": "flower",
   "language": "python",
   "name": "python3"
  },
  "language_info": {
   "codemirror_mode": {
    "name": "ipython",
    "version": 3
   },
   "file_extension": ".py",
   "mimetype": "text/x-python",
   "name": "python",
   "nbconvert_exporter": "python",
   "pygments_lexer": "ipython3",
   "version": "3.9.0"
  },
  "orig_nbformat": 4
 },
 "nbformat": 4,
 "nbformat_minor": 2
}
