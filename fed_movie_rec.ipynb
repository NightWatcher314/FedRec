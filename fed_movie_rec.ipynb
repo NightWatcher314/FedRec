{
 "cells": [
  {
   "cell_type": "code",
   "execution_count": 31,
   "metadata": {},
   "outputs": [],
   "source": [
    "import pandas as pd\n",
    "import numpy as np\n",
    "import torch\n",
    "import tokenizers\n",
    "import sys\n",
    "import torch.nn as nn\n",
    "import traceback\n",
    "import random\n",
    "import torch.nn.functional as F\n",
    "import os\n",
    "from tqdm import tqdm\n",
    "from torch.utils.data import Dataset, DataLoader\n",
    "from sentence_transformers import SentenceTransformer\n",
    "import flwr as fl\n",
    "from collections import OrderedDict\n",
    "from typing import List, Tuple\n",
    "\n",
    "\n",
    "os.environ[\"TOKENIZERS_PARALLELISM\"] = \"false\"\n",
    "np.random.seed(42)"
   ]
  },
  {
   "cell_type": "code",
   "execution_count": 32,
   "metadata": {},
   "outputs": [],
   "source": [
    "class DatasetCFG:\n",
    "    data_root = 'ml-25m'\n",
    "    num_negatives = 1\n",
    "\n",
    "\n",
    "class FedCFG:\n",
    "    num_clients = 10"
   ]
  },
  {
   "cell_type": "markdown",
   "metadata": {},
   "source": [
    "### 获取训练数据\n"
   ]
  },
  {
   "cell_type": "code",
   "execution_count": 33,
   "metadata": {},
   "outputs": [],
   "source": [
    "class MovieLensDataset(Dataset):\n",
    "    '''\n",
    "        ratings_data: userId|user_behavior|rating|movieId|title|genres\n",
    "    '''\n",
    "\n",
    "    def __init__(self, ratings_data, mode='train'):\n",
    "        self.user_ids, self.user_behaviors, self.movie_ids, self.movie_titles, self.movie_genres, self.labels = self.generate_dataset(\n",
    "            ratings_data, mode)\n",
    "\n",
    "    def __getitem__(self, index):\n",
    "        return self.user_ids[index], self.user_behaviors[index], self.movie_ids[index], self.movie_titles[index], self.movie_genres[index], self.labels[index]\n",
    "\n",
    "    def __len__(self):\n",
    "        return len(self.user_ids)\n",
    "\n",
    "    def generate_dataset(self, ratings_data, mode='train'):\n",
    "        movie_id_title_genres_list = list(\n",
    "            set(zip(ratings_data['movieId'], ratings_data['title'], ratings_data['genres'])))\n",
    "\n",
    "        user_item_set = set(\n",
    "            zip(ratings_data['userId'], ratings_data['movieId']))\n",
    "        user_ids, user_behaviors, movie_ids, movie_titles, movie_genres, labels = [], [], [], [], [], []\n",
    "        for rating in ratings_data.itertuples():\n",
    "            user_id = getattr(rating, 'userId')\n",
    "            user_behavior = getattr(rating, 'user_behavior')\n",
    "            movie_id = getattr(rating, 'movieId')\n",
    "            movie_title = getattr(rating, 'title')\n",
    "            movie_genre = getattr(rating, 'genres')\n",
    "            if mode == 'train':\n",
    "                for _ in range(DatasetCFG.num_negatives):\n",
    "                    negative_movie = random.choice(movie_id_title_genres_list)\n",
    "                    while (user_id, negative_movie[0]) in user_item_set:\n",
    "                        negative_movie = random.choice(\n",
    "                            movie_id_title_genres_list)\n",
    "                    user_ids.append(str(user_id))\n",
    "                    user_behaviors.append(user_behavior)\n",
    "                    movie_ids.append(str(negative_movie[0]))\n",
    "                    movie_titles.append(negative_movie[1])\n",
    "                    movie_genres.append(negative_movie[2])\n",
    "                    labels.append(0)\n",
    "            user_ids.append(str(user_id))\n",
    "            user_behaviors.append(user_behavior)\n",
    "            movie_ids.append(str(movie_id))\n",
    "            movie_titles.append(movie_title)\n",
    "            movie_genres.append(movie_genre)\n",
    "            labels.append(1)\n",
    "        return user_ids, user_behaviors, movie_ids, movie_titles, movie_genres, labels\n",
    "\n",
    "\n",
    "def spilt_train_test(file_name='ratings_data_process_0001.csv'):\n",
    "    ratings_trains = []\n",
    "    ratings_tests = []\n",
    "\n",
    "    ratings_data = pd.read_csv(os.path.join(\n",
    "        DatasetCFG.data_root, file_name))\n",
    "\n",
    "    ratings_data_group = []\n",
    "    for name, group in ratings_data.groupby('userId'):\n",
    "        ratings_data_group.append(group)\n",
    "    np.random.shuffle(ratings_data_group)\n",
    "\n",
    "    spilt_size = int(len(ratings_data_group)/FedCFG.num_clients)\n",
    "    for i in range(FedCFG.num_clients):\n",
    "        start = i*spilt_size\n",
    "        end = (i+1)*spilt_size\n",
    "        ratings_data_tem = pd.concat(ratings_data_group[start:end])\n",
    "        ratings_train = ratings_data_tem[ratings_data_tem['rank_latest'] != ratings_data_tem.groupby(\n",
    "            'userId')['rank_latest'].transform('max')]\n",
    "        ratings_test = ratings_data_tem[ratings_data_tem['rank_latest'] == ratings_data_tem.groupby(\n",
    "            'userId')['rank_latest'].transform('max')]\n",
    "        ratings_trains.append(ratings_train)\n",
    "        ratings_tests.append(ratings_test)\n",
    "    return ratings_trains, ratings_tests"
   ]
  },
  {
   "cell_type": "code",
   "execution_count": 34,
   "metadata": {},
   "outputs": [],
   "source": [
    "class Net(nn.Module):\n",
    "    def __init__(self, device):\n",
    "        self.device = device\n",
    "        super(Net, self).__init__()\n",
    "        self.embedding = SentenceTransformer(\n",
    "            'models/all_datasets_v4_MiniLM-L6')\n",
    "        for param in self.embedding.parameters():\n",
    "            param.requires_grad = False\n",
    "        self.user_fc1 = nn.Linear(384*2, 512)\n",
    "        self.user_fc2 = nn.Linear(512, 128)\n",
    "        self.movie_fc1 = nn.Linear(384*3, 512)\n",
    "        self.movie_fc2 = nn.Linear(512, 128)\n",
    "        self.relu = nn.ReLU()\n",
    "\n",
    "        self.to(device)\n",
    "\n",
    "    def forward(self, user_id, user_behavior, movie_id, movie_title, movie_genre):\n",
    "        # display(user_id,user_behavior,movie_id,movie_title,movie_genre)\n",
    "        user_id_embedding = torch.tensor(\n",
    "            self.embedding.encode(user_id)).requires_grad_(True)\n",
    "        user_behavior_embedding = torch.tensor(\n",
    "            self.embedding.encode(user_behavior)).requires_grad_(True)\n",
    "        movie_id_embedding = torch.tensor(self.embedding.encode(\n",
    "            movie_id), requires_grad=True).requires_grad_(True)\n",
    "        movie_title_embedding = torch.tensor(self.embedding.encode(\n",
    "            movie_title), requires_grad=True).requires_grad_(True)\n",
    "        movie_genre_embedding = torch.tensor(self.embedding.encode(\n",
    "            movie_genre), requires_grad=True).requires_grad_(True)\n",
    "        # display(user_id_embedding.shape,user_behavior_embedding.shape,movie_id_embedding.shape,movie_title_embedding.shape,movie_genre_embedding.shape)\n",
    "\n",
    "        user_embedding = torch.cat(\n",
    "            [user_id_embedding, user_behavior_embedding], dim=1)\n",
    "        movie_embedding = torch.cat(\n",
    "            [movie_id_embedding, movie_title_embedding, movie_genre_embedding], dim=1)\n",
    "\n",
    "        user_embedding = user_embedding.to(self.device)\n",
    "        movie_embedding = movie_embedding.to(self.device)\n",
    "\n",
    "        user_out = self.user_fc1(user_embedding)\n",
    "        user_out = self.relu(user_out)\n",
    "        user_out = self.user_fc2(user_out)\n",
    "\n",
    "        movie_out = self.movie_fc1(movie_embedding)\n",
    "        movie_out = self.relu(movie_out)\n",
    "        movie_out = self.movie_fc2(movie_out)\n",
    "\n",
    "        result = user_out*movie_out\n",
    "        result = F.softmax(torch.sum(result, dim=1), dim=0)\n",
    "\n",
    "        return result"
   ]
  },
  {
   "cell_type": "markdown",
   "metadata": {},
   "source": [
    "# Train Net Func\n"
   ]
  },
  {
   "cell_type": "code",
   "execution_count": 35,
   "metadata": {},
   "outputs": [],
   "source": [
    "def train(net, train_dataloader, epochs, verbose=True):\n",
    "    net.train()\n",
    "    optimizer = torch.optim.Adam(net.parameters(), lr=0.001)\n",
    "    criterion = nn.BCEWithLogitsLoss()\n",
    "    for epoch in range(epochs):\n",
    "        for user_id, user_behavior, movie_id, movie_title, movie_genre, labels in tqdm(train_dataloader):\n",
    "            optimizer.zero_grad()\n",
    "            outputs = net(user_id, user_behavior, movie_id,\n",
    "                          movie_title, movie_genre)\n",
    "            loss = criterion(outputs, labels.float())\n",
    "            loss.backward()\n",
    "            optimizer.step()\n",
    "        if verbose:\n",
    "            print('epoch:', epoch, 'loss:', loss.item())\n",
    "\n",
    "\n",
    "def test(net, test_dataloader):\n",
    "    net.eval()\n",
    "    criterion = nn.BCEWithLogitsLoss()\n",
    "    test_loss = 0\n",
    "    with torch.no_grad():\n",
    "        for user_id, user_behavior, movie_id, movie_title, movie_genre, labels in tqdm(test_dataloader):\n",
    "            outputs = net(user_id, user_behavior, movie_id,\n",
    "                          movie_title, movie_genre)\n",
    "            outputs = outputs.to('cpu')\n",
    "            test_loss += criterion(outputs, labels.float()).item()\n",
    "    test_loss /= len(test_dataloader)\n",
    "    print('test_loss:', test_loss)\n",
    "    return test_loss"
   ]
  },
  {
   "cell_type": "markdown",
   "metadata": {},
   "source": [
    "# Federated Func\n"
   ]
  },
  {
   "cell_type": "code",
   "execution_count": 36,
   "metadata": {},
   "outputs": [
    {
     "name": "stderr",
     "output_type": "stream",
     "text": [
      "100%|██████████| 10/10 [00:00<00:00, 72.18it/s]\n",
      "INFO flwr 2023-09-26 08:40:16,490 | app.py:175 | Starting Flower simulation, config: ServerConfig(num_rounds=5, round_timeout=None)\n",
      "2023-09-26 08:40:20,580\tINFO worker.py:1621 -- Started a local Ray instance.\n",
      "INFO flwr 2023-09-26 08:40:21,990 | app.py:210 | Flower VCE: Ray initialized with resources: {'memory': 122457173812.0, 'object_store_memory': 56767360204.0, 'node:__internal_head__': 1.0, 'node:10.249.41.139': 1.0, 'CPU': 32.0, 'GPU': 2.0, 'accelerator_type:G': 1.0}\n",
      "INFO flwr 2023-09-26 08:40:21,991 | app.py:218 | No `client_resources` specified. Using minimal resources for clients.\n",
      "INFO flwr 2023-09-26 08:40:21,991 | app.py:224 | Flower VCE: Resources for each Virtual Client: {'num_cpus': 1, 'num_gpus': 0.0}\n",
      "INFO flwr 2023-09-26 08:40:22,009 | app.py:270 | Flower VCE: Creating VirtualClientEngineActorPool with 32 actors\n",
      "INFO flwr 2023-09-26 08:40:22,010 | server.py:89 | Initializing global parameters\n",
      "INFO flwr 2023-09-26 08:40:22,011 | server.py:276 | Requesting initial parameters from one random client\n",
      "INFO flwr 2023-09-26 08:40:26,040 | server.py:280 | Received initial parameters from one random client\n",
      "INFO flwr 2023-09-26 08:40:26,041 | server.py:91 | Evaluating initial parameters\n",
      "INFO flwr 2023-09-26 08:40:26,042 | server.py:104 | FL starting\n",
      "DEBUG flwr 2023-09-26 08:40:26,043 | server.py:222 | fit_round 1: strategy sampled 10 clients (out of 10)\n",
      "  0%|          | 0/47 [00:00<?, ?it/s]m \n",
      "  2%|▏         | 1/47 [00:03<02:27,  3.21s/it]\n",
      "  0%|          | 0/70 [00:00<?, ?it/s]\u001b[32m [repeated 9x across cluster]\u001b[0m\n",
      "  4%|▍         | 2/47 [00:05<02:11,  2.92s/it]\u001b[32m [repeated 12x across cluster]\u001b[0m\n",
      "  5%|▌         | 4/77 [00:11<03:37,  2.98s/it]\u001b[32m [repeated 18x across cluster]\u001b[0m\n",
      "  6%|▌         | 5/81 [00:16<04:02,  3.19s/it]\u001b[32m [repeated 19x across cluster]\u001b[0m\n",
      "  6%|▌         | 7/117 [00:22<05:54,  3.22s/it]\u001b[32m [repeated 18x across cluster]\u001b[0m\n",
      " 17%|█▋        | 9/52 [00:27<02:12,  3.07s/it]\u001b[32m [repeated 18x across cluster]\u001b[0m\n",
      " 11%|█         | 10/89 [00:32<04:27,  3.39s/it]\u001b[32m [repeated 13x across cluster]\u001b[0m\n",
      " 10%|█         | 12/117 [00:37<05:29,  3.14s/it]\u001b[32m [repeated 19x across cluster]\u001b[0m\n",
      " 14%|█▍        | 14/99 [00:43<04:32,  3.21s/it]\u001b[32m [repeated 19x across cluster]\u001b[0m\n",
      " 33%|███▎      | 16/49 [00:48<01:37,  2.97s/it]\u001b[32m [repeated 14x across cluster]\u001b[0m\n",
      " 35%|███▍      | 18/52 [00:53<01:37,  2.86s/it]\u001b[32m [repeated 17x across cluster]\u001b[0m\n",
      " 22%|██▏       | 18/81 [00:58<03:22,  3.22s/it]\u001b[32m [repeated 18x across cluster]\u001b[0m\n",
      " 27%|██▋       | 21/77 [01:04<02:52,  3.08s/it]\u001b[32m [repeated 17x across cluster]\u001b[0m\n",
      " 51%|█████     | 24/47 [01:12<01:09,  3.03s/it]\u001b[32m [repeated 17x across cluster]\u001b[0m\n",
      " 28%|██▊       | 23/81 [01:13<03:03,  3.17s/it]\u001b[32m [repeated 16x across cluster]\u001b[0m\n",
      " 26%|██▋       | 26/99 [01:20<03:46,  3.10s/it]\u001b[32m [repeated 17x across cluster]\u001b[0m\n",
      " 39%|███▊      | 27/70 [01:24<02:12,  3.08s/it]\u001b[32m [repeated 17x across cluster]\u001b[0m\n",
      " 24%|██▍       | 28/117 [01:30<04:56,  3.33s/it]\u001b[32m [repeated 18x across cluster]\u001b[0m\n",
      " 70%|███████   | 33/47 [01:38<00:40,  2.87s/it]\u001b[32m [repeated 16x across cluster]\u001b[0m\n",
      " 46%|████▌     | 32/70 [01:39<01:56,  3.06s/it]\u001b[32m [repeated 17x across cluster]\u001b[0m\n",
      " 34%|███▍      | 34/99 [01:46<03:33,  3.28s/it]\u001b[32m [repeated 15x across cluster]\u001b[0m\n",
      " 47%|████▋     | 36/77 [01:51<02:09,  3.16s/it]\u001b[32m [repeated 19x across cluster]\u001b[0m\n",
      " 31%|███       | 36/117 [01:55<04:10,  3.09s/it]\u001b[32m [repeated 15x across cluster]\u001b[0m\n",
      " 85%|████████▌ | 40/47 [02:01<00:20,  2.98s/it]\u001b[32m [repeated 16x across cluster]\u001b[0m\n",
      " 91%|█████████▏| 43/47 [02:07<00:11,  2.91s/it]\n",
      " 53%|█████▎    | 41/77 [02:07<01:51,  3.09s/it]\u001b[32m [repeated 18x across cluster]\u001b[0m\n",
      " 94%|█████████▎| 44/47 [02:10<00:08,  2.97s/it]\n",
      " 91%|█████████▏| 43/47 [02:10<00:11,  2.93s/it]\n",
      " 96%|█████████▌| 45/47 [02:13<00:05,  2.88s/it]\n",
      " 35%|███▌      | 41/117 [02:11<03:59,  3.15s/it]\u001b[32m [repeated 13x across cluster]\u001b[0m\n"
     ]
    },
    {
     "name": "stdout",
     "output_type": "stream",
     "text": [
      "\u001b[2m\u001b[36m(DefaultActor pid=1231229)\u001b[0m epoch: 0 loss: 0.6739499568939209\n"
     ]
    },
    {
     "name": "stderr",
     "output_type": "stream",
     "text": [
      " 92%|█████████▏| 45/49 [02:14<00:11,  2.98s/it]\u001b[32m [repeated 4x across cluster]\u001b[0m\n",
      " 88%|████████▊ | 46/52 [02:16<00:16,  2.81s/it]\u001b[32m [repeated 12x across cluster]\u001b[0m\n",
      " 98%|█████████▊| 46/47 [02:19<00:03,  3.02s/it]\u001b[32m [repeated 3x across cluster]\u001b[0m\n"
     ]
    },
    {
     "name": "stdout",
     "output_type": "stream",
     "text": [
      "\u001b[2m\u001b[36m(DefaultActor pid=1231226)\u001b[0m epoch: 0 loss: 0.706369161605835\n"
     ]
    },
    {
     "name": "stderr",
     "output_type": "stream",
     "text": [
      " 60%|█████▉    | 46/77 [02:22<01:35,  3.10s/it]\u001b[32m [repeated 12x across cluster]\u001b[0m\n"
     ]
    },
    {
     "name": "stdout",
     "output_type": "stream",
     "text": [
      "\u001b[2m\u001b[36m(DefaultActor pid=1231225)\u001b[0m epoch: 0 loss: 0.6845134496688843\n"
     ]
    },
    {
     "name": "stderr",
     "output_type": "stream",
     "text": [
      "100%|██████████| 49/49 [02:25<00:00,  2.98s/it]\u001b[32m [repeated 6x across cluster]\u001b[0m\n",
      " 67%|██████▋   | 47/70 [02:25<01:09,  3.00s/it]\u001b[32m [repeated 9x across cluster]\u001b[0m\n",
      "100%|██████████| 52/52 [02:30<00:00,  2.89s/it]\u001b[32m [repeated 3x across cluster]\u001b[0m\n",
      " 70%|███████   | 49/70 [02:30<01:01,  2.92s/it]\u001b[32m [repeated 12x across cluster]\u001b[0m\n",
      " 73%|███████▎  | 51/70 [02:36<00:53,  2.83s/it]\u001b[32m [repeated 10x across cluster]\u001b[0m\n",
      " 76%|███████▌  | 53/70 [02:41<00:47,  2.79s/it]\u001b[32m [repeated 12x across cluster]\u001b[0m\n",
      " 79%|███████▊  | 55/70 [02:46<00:40,  2.68s/it]\u001b[32m [repeated 12x across cluster]\u001b[0m\n",
      " 47%|████▋     | 55/117 [02:52<02:58,  2.88s/it]\u001b[32m [repeated 11x across cluster]\u001b[0m\n",
      " 77%|███████▋  | 59/77 [02:58<00:48,  2.70s/it]\u001b[32m [repeated 11x across cluster]\u001b[0m\n",
      " 64%|██████▍   | 57/89 [03:03<01:32,  2.89s/it]\u001b[32m [repeated 11x across cluster]\u001b[0m\n",
      " 52%|█████▏    | 61/117 [03:09<02:33,  2.73s/it]\u001b[32m [repeated 12x across cluster]\u001b[0m\n",
      " 91%|█████████▏| 64/70 [03:11<00:15,  2.64s/it]\n",
      " 93%|█████████▎| 65/70 [03:14<00:13,  2.67s/it]\n",
      " 65%|██████▍   | 64/99 [03:14<01:37,  2.78s/it]\u001b[32m [repeated 10x across cluster]\u001b[0m\n",
      " 94%|█████████▍| 66/70 [03:16<00:10,  2.71s/it]\n",
      " 96%|█████████▌| 67/70 [03:19<00:07,  2.66s/it]\n",
      " 67%|██████▋   | 66/99 [03:19<01:31,  2.76s/it]\u001b[32m [repeated 10x across cluster]\u001b[0m\n",
      " 97%|█████████▋| 68/70 [03:21<00:05,  2.64s/it]\n",
      " 99%|█████████▊| 69/70 [03:24<00:02,  2.69s/it]\n",
      " 83%|████████▎ | 67/81 [03:24<00:40,  2.87s/it]\u001b[32m [repeated 10x across cluster]\u001b[0m\n"
     ]
    },
    {
     "name": "stdout",
     "output_type": "stream",
     "text": [
      "\u001b[2m\u001b[36m(DefaultActor pid=1231220)\u001b[0m epoch: 0 loss: 0.6835981011390686\u001b[32m [repeated 2x across cluster]\u001b[0m\n"
     ]
    },
    {
     "name": "stderr",
     "output_type": "stream",
     "text": [
      "100%|██████████| 70/70 [03:26<00:00,  2.95s/it]\n",
      " 74%|███████▍  | 66/89 [03:30<01:08,  2.97s/it]\u001b[32m [repeated 10x across cluster]\u001b[0m\n",
      " 92%|█████████▏| 71/77 [03:32<00:16,  2.77s/it]\n",
      " 94%|█████████▎| 72/77 [03:35<00:13,  2.77s/it]\n",
      " 95%|█████████▍| 73/77 [03:38<00:10,  2.69s/it]\n",
      " 73%|███████▎  | 72/99 [03:36<01:16,  2.84s/it]\u001b[32m [repeated 8x across cluster]\u001b[0m\n",
      " 96%|█████████▌| 74/77 [03:40<00:08,  2.72s/it]\n",
      " 97%|█████████▋| 75/77 [03:43<00:05,  2.72s/it]\n",
      " 79%|███████▊  | 70/89 [03:41<00:55,  2.91s/it]\u001b[32m [repeated 8x across cluster]\u001b[0m\n"
     ]
    },
    {
     "name": "stdout",
     "output_type": "stream",
     "text": [
      "\u001b[2m\u001b[36m(DefaultActor pid=1231227)\u001b[0m epoch: 0 loss: 0.6694043278694153\n"
     ]
    },
    {
     "name": "stderr",
     "output_type": "stream",
     "text": [
      " 94%|█████████▍| 76/81 [03:48<00:14,  2.82s/it]\u001b[32m [repeated 5x across cluster]\u001b[0m\n",
      " 81%|████████  | 72/89 [03:47<00:49,  2.90s/it]\u001b[32m [repeated 6x across cluster]\u001b[0m\n",
      " 96%|█████████▋| 78/81 [03:53<00:08,  2.76s/it]\u001b[32m [repeated 2x across cluster]\u001b[0m\n",
      " 83%|████████▎ | 74/89 [03:53<00:42,  2.81s/it]\u001b[32m [repeated 6x across cluster]\u001b[0m\n",
      " 99%|█████████▉| 80/81 [03:59<00:02,  2.68s/it]\u001b[32m [repeated 2x across cluster]\u001b[0m\n",
      " 85%|████████▌ | 76/89 [03:58<00:36,  2.82s/it]\u001b[32m [repeated 6x across cluster]\u001b[0m\n"
     ]
    },
    {
     "name": "stdout",
     "output_type": "stream",
     "text": [
      "\u001b[2m\u001b[36m(DefaultActor pid=1231222)\u001b[0m epoch: 0 loss: 0.7050350904464722\n"
     ]
    },
    {
     "name": "stderr",
     "output_type": "stream",
     "text": [
      "100%|██████████| 81/81 [04:01<00:00,  2.98s/it]\n",
      " 84%|████████▍ | 83/99 [04:06<00:43,  2.69s/it]\u001b[32m [repeated 7x across cluster]\u001b[0m\n",
      " 86%|████████▌ | 85/99 [04:11<00:37,  2.66s/it]\u001b[32m [repeated 6x across cluster]\u001b[0m\n",
      " 92%|█████████▏| 82/89 [04:14<00:18,  2.67s/it]\n",
      " 88%|████████▊ | 87/99 [04:17<00:32,  2.69s/it]\u001b[32m [repeated 5x across cluster]\u001b[0m\n",
      " 93%|█████████▎| 83/89 [04:17<00:16,  2.70s/it]\n",
      " 94%|█████████▍| 84/89 [04:20<00:13,  2.76s/it]\n",
      " 90%|████████▉ | 89/99 [04:22<00:26,  2.66s/it]\u001b[32m [repeated 4x across cluster]\u001b[0m\n",
      " 96%|█████████▌| 85/89 [04:23<00:11,  2.76s/it]\n",
      " 97%|█████████▋| 86/89 [04:26<00:08,  2.76s/it]\n",
      " 75%|███████▌  | 88/117 [04:25<01:19,  2.74s/it]\u001b[32m [repeated 3x across cluster]\u001b[0m\n",
      " 98%|█████████▊| 87/89 [04:28<00:05,  2.77s/it]\u001b[32m [repeated 2x across cluster]\u001b[0m\n",
      " 77%|███████▋  | 90/117 [04:30<01:13,  2.72s/it]\u001b[32m [repeated 2x across cluster]\u001b[0m\n"
     ]
    },
    {
     "name": "stdout",
     "output_type": "stream",
     "text": [
      "\u001b[2m\u001b[36m(DefaultActor pid=1231224)\u001b[0m epoch: 0 loss: 0.6825947761535645\n"
     ]
    },
    {
     "name": "stderr",
     "output_type": "stream",
     "text": [
      " 95%|█████████▍| 94/99 [04:35<00:13,  2.64s/it]\u001b[32m [repeated 5x across cluster]\u001b[0m\n",
      " 79%|███████▉  | 93/117 [04:38<01:05,  2.74s/it]\u001b[32m [repeated 3x across cluster]\u001b[0m\n",
      " 97%|█████████▋| 96/99 [04:40<00:07,  2.64s/it]\u001b[32m [repeated 2x across cluster]\u001b[0m\n",
      " 81%|████████  | 95/117 [04:44<00:59,  2.69s/it]\u001b[32m [repeated 2x across cluster]\u001b[0m\n",
      "100%|██████████| 99/99 [04:47<00:00,  2.90s/it]\u001b[32m [repeated 3x across cluster]\u001b[0m\n"
     ]
    },
    {
     "name": "stdout",
     "output_type": "stream",
     "text": [
      "\u001b[2m\u001b[36m(DefaultActor pid=1231228)\u001b[0m epoch: 0 loss: 0.6810883283615112\n"
     ]
    },
    {
     "name": "stderr",
     "output_type": "stream",
     "text": [
      " 83%|████████▎ | 97/117 [04:49<00:52,  2.63s/it]\u001b[32m [repeated 2x across cluster]\u001b[0m\n",
      " 85%|████████▌ | 100/117 [04:56<00:43,  2.55s/it]\u001b[32m [repeated 3x across cluster]\u001b[0m\n",
      " 87%|████████▋ | 102/117 [05:01<00:38,  2.56s/it]\u001b[32m [repeated 2x across cluster]\u001b[0m\n",
      " 89%|████████▉ | 104/117 [05:06<00:33,  2.55s/it]\u001b[32m [repeated 2x across cluster]\u001b[0m\n",
      " 91%|█████████ | 106/117 [05:12<00:28,  2.57s/it]\u001b[32m [repeated 2x across cluster]\u001b[0m\n",
      " 91%|█████████▏| 107/117 [05:14<00:26,  2.64s/it]\n",
      " 92%|█████████▏| 108/117 [05:17<00:23,  2.63s/it]\n",
      " 93%|█████████▎| 109/117 [05:20<00:20,  2.59s/it]\n",
      " 94%|█████████▍| 110/117 [05:22<00:17,  2.57s/it]\n",
      " 95%|█████████▍| 111/117 [05:25<00:15,  2.59s/it]\n",
      " 96%|█████████▌| 112/117 [05:27<00:12,  2.59s/it]\n",
      " 97%|█████████▋| 113/117 [05:30<00:10,  2.56s/it]\n",
      " 97%|█████████▋| 114/117 [05:32<00:07,  2.57s/it]\n",
      " 98%|█████████▊| 115/117 [05:35<00:05,  2.58s/it]\n",
      " 99%|█████████▉| 116/117 [05:38<00:02,  2.58s/it]\n",
      "100%|██████████| 117/117 [05:39<00:00,  2.90s/it]\n",
      "DEBUG flwr 2023-09-26 08:46:09,592 | server.py:236 | fit_round 1 received 10 results and 0 failures\n"
     ]
    },
    {
     "name": "stdout",
     "output_type": "stream",
     "text": [
      "\u001b[2m\u001b[36m(DefaultActor pid=1231223)\u001b[0m epoch: 0 loss: 0.6840028762817383\n"
     ]
    },
    {
     "name": "stderr",
     "output_type": "stream",
     "text": [
      "WARNING flwr 2023-09-26 08:46:10,911 | fedavg.py:242 | No fit_metrics_aggregation_fn provided\n",
      "DEBUG flwr 2023-09-26 08:46:10,919 | server.py:173 | evaluate_round 1: strategy sampled 5 clients (out of 10)\n",
      "  0%|          | 0/1 [00:00<?, ?it/s]0m \n"
     ]
    },
    {
     "name": "stdout",
     "output_type": "stream",
     "text": [
      "\u001b[2m\u001b[36m(DefaultActor pid=1231223)\u001b[0m test_loss: 0.6631342172622681\n"
     ]
    },
    {
     "name": "stderr",
     "output_type": "stream",
     "text": [
      "100%|██████████| 1/1 [00:00<00:00,  1.49it/s]\n",
      "100%|██████████| 1/1 [00:00<00:00,  1.30it/s]\u001b[32m [repeated 2x across cluster]\u001b[0m\n",
      "DEBUG flwr 2023-09-26 08:46:13,140 | server.py:187 | evaluate_round 1 received 5 results and 0 failures\n",
      "WARNING flwr 2023-09-26 08:46:13,142 | fedavg.py:273 | No evaluate_metrics_aggregation_fn provided\n",
      "DEBUG flwr 2023-09-26 08:46:13,144 | server.py:222 | fit_round 2: strategy sampled 10 clients (out of 10)\n",
      "  2%|▏         | 1/49 [00:02<02:06,  2.64s/it]\n",
      "  0%|          | 0/47 [00:00<?, ?it/s]\u001b[32m [repeated 14x across cluster]\u001b[0m\n",
      "100%|██████████| 1/1 [00:00<00:00,  1.22it/s]\u001b[32m [repeated 2x across cluster]\u001b[0m\n",
      "  6%|▌         | 3/49 [00:07<02:01,  2.63s/it]\u001b[32m [repeated 20x across cluster]\u001b[0m\n",
      "  8%|▊         | 4/52 [00:12<02:29,  3.12s/it]\u001b[32m [repeated 17x across cluster]\u001b[0m\n",
      " 13%|█▎        | 6/47 [00:18<02:02,  3.00s/it]\u001b[32m [repeated 15x across cluster]\u001b[0m\n",
      " 16%|█▋        | 8/49 [00:23<02:06,  3.08s/it]\u001b[32m [repeated 16x across cluster]\u001b[0m\n",
      "  9%|▉         | 9/99 [00:28<04:41,  3.13s/it]\u001b[32m [repeated 16x across cluster]\u001b[0m\n",
      " 11%|█         | 10/89 [00:33<04:28,  3.39s/it]\u001b[32m [repeated 17x across cluster]\u001b[0m\n",
      " 10%|█         | 12/117 [00:39<05:38,  3.23s/it]\u001b[32m [repeated 19x across cluster]\u001b[0m\n",
      " 18%|█▊        | 14/77 [00:45<03:23,  3.24s/it]\u001b[32m [repeated 18x across cluster]\u001b[0m\n",
      " 17%|█▋        | 15/89 [00:49<04:02,  3.28s/it]\u001b[32m [repeated 17x across cluster]\u001b[0m\n",
      " 26%|██▌       | 18/70 [00:56<02:40,  3.09s/it]\u001b[32m [repeated 16x across cluster]\u001b[0m\n",
      " 29%|██▊       | 20/70 [01:02<02:33,  3.06s/it]\u001b[32m [repeated 20x across cluster]\u001b[0m\n",
      " 21%|██        | 21/99 [01:07<04:16,  3.29s/it]\u001b[32m [repeated 19x across cluster]\u001b[0m\n",
      " 51%|█████     | 25/49 [01:12<01:12,  3.01s/it]\u001b[32m [repeated 15x across cluster]\u001b[0m\n",
      " 53%|█████▎    | 25/47 [01:17<01:07,  3.07s/it]\u001b[32m [repeated 19x across cluster]\u001b[0m\n",
      " 31%|███       | 25/81 [01:23<03:07,  3.35s/it]\u001b[32m [repeated 15x across cluster]\u001b[0m\n",
      " 23%|██▎       | 27/117 [01:28<04:42,  3.14s/it]\u001b[32m [repeated 18x across cluster]\u001b[0m\n",
      " 29%|██▉       | 29/99 [01:33<03:49,  3.28s/it]\u001b[32m [repeated 17x across cluster]\u001b[0m\n",
      " 46%|████▌     | 32/70 [01:39<01:56,  3.07s/it]\u001b[32m [repeated 16x across cluster]\u001b[0m\n",
      " 43%|████▎     | 33/77 [01:45<02:18,  3.14s/it]\u001b[32m [repeated 16x across cluster]\u001b[0m\n",
      " 41%|████      | 33/81 [01:50<02:37,  3.29s/it]\u001b[32m [repeated 17x across cluster]\u001b[0m\n",
      " 30%|██▉       | 35/117 [01:54<04:29,  3.29s/it]\u001b[32m [repeated 18x across cluster]\u001b[0m\n",
      " 81%|████████  | 38/47 [01:59<00:28,  3.16s/it]\u001b[32m [repeated 15x across cluster]\u001b[0m\n",
      " 91%|█████████▏| 43/47 [02:00<00:11,  2.83s/it]\n",
      " 94%|█████████▎| 44/47 [02:04<00:08,  2.93s/it]\n",
      " 32%|███▏      | 38/117 [02:04<04:22,  3.32s/it]\u001b[32m [repeated 14x across cluster]\u001b[0m\n",
      " 96%|█████████▌| 45/47 [02:07<00:05,  2.97s/it]\n",
      " 60%|██████    | 42/70 [02:10<01:28,  3.15s/it]\u001b[32m [repeated 16x across cluster]\u001b[0m\n",
      " 98%|█████████▊| 46/47 [02:10<00:03,  3.05s/it]\n"
     ]
    },
    {
     "name": "stdout",
     "output_type": "stream",
     "text": [
      "\u001b[2m\u001b[36m(DefaultActor pid=1231229)\u001b[0m epoch: 0 loss: 0.6949167847633362\n",
      "\u001b[2m\u001b[36m(DefaultActor pid=1231227)\u001b[0m test_loss: 0.6628612875938416\u001b[32m [repeated 4x across cluster]\u001b[0m\n"
     ]
    },
    {
     "name": "stderr",
     "output_type": "stream",
     "text": [
      "100%|██████████| 47/47 [02:11<00:00,  2.80s/it]\n",
      " 92%|█████████▏| 45/49 [02:14<00:11,  2.91s/it]\n",
      " 63%|██████▎   | 44/70 [02:16<01:19,  3.07s/it]\u001b[32m [repeated 14x across cluster]\u001b[0m\n",
      " 94%|█████████▎| 44/47 [02:17<00:09,  3.07s/it]\u001b[32m [repeated 3x across cluster]\u001b[0m\n",
      " 88%|████████▊ | 46/52 [02:21<00:17,  2.95s/it]\u001b[32m [repeated 14x across cluster]\u001b[0m\n",
      " 98%|█████████▊| 46/47 [02:23<00:03,  3.07s/it]\u001b[32m [repeated 4x across cluster]\u001b[0m\n"
     ]
    },
    {
     "name": "stdout",
     "output_type": "stream",
     "text": [
      "\u001b[2m\u001b[36m(DefaultActor pid=1231223)\u001b[0m epoch: 0 loss: 0.6844802498817444\n",
      "\u001b[2m\u001b[36m(DefaultActor pid=1231220)\u001b[0m epoch: 0 loss: 0.6908971667289734\n"
     ]
    },
    {
     "name": "stderr",
     "output_type": "stream",
     "text": [
      " 46%|████▋     | 46/99 [02:27<02:39,  3.00s/it]\u001b[32m [repeated 11x across cluster]\u001b[0m\n",
      " 92%|█████████▏| 48/52 [02:26<00:11,  2.85s/it]\u001b[32m [repeated 3x across cluster]\u001b[0m\n",
      " 57%|█████▋    | 46/81 [02:32<01:50,  3.15s/it]\u001b[32m [repeated 10x across cluster]\u001b[0m\n",
      " 96%|█████████▌| 50/52 [02:32<00:05,  2.76s/it]\u001b[32m [repeated 2x across cluster]\u001b[0m\n"
     ]
    },
    {
     "name": "stdout",
     "output_type": "stream",
     "text": [
      "\u001b[2m\u001b[36m(DefaultActor pid=1231221)\u001b[0m epoch: 0 loss: 0.7140504717826843\n"
     ]
    },
    {
     "name": "stderr",
     "output_type": "stream",
     "text": [
      " 65%|██████▍   | 50/77 [02:38<01:18,  2.92s/it]\u001b[32m [repeated 12x across cluster]\u001b[0m\n",
      "100%|██████████| 52/52 [02:36<00:00,  3.00s/it]\u001b[32m [repeated 2x across cluster]\u001b[0m\n",
      " 68%|██████▊   | 52/77 [02:43<01:10,  2.81s/it]\u001b[32m [repeated 12x across cluster]\u001b[0m\n",
      " 44%|████▍     | 52/117 [02:48<03:15,  3.01s/it]\u001b[32m [repeated 11x across cluster]\u001b[0m\n",
      " 46%|████▌     | 54/117 [02:53<03:06,  2.96s/it]\u001b[32m [repeated 12x across cluster]\u001b[0m\n",
      " 75%|███████▌  | 58/77 [03:00<00:51,  2.73s/it]\u001b[32m [repeated 12x across cluster]\u001b[0m\n",
      " 78%|███████▊  | 60/77 [03:06<00:47,  2.78s/it]\u001b[32m [repeated 12x across cluster]\u001b[0m\n",
      " 81%|████████  | 62/77 [03:11<00:40,  2.67s/it]\u001b[32m [repeated 12x across cluster]\u001b[0m\n",
      " 91%|█████████▏| 64/70 [03:12<00:17,  2.85s/it]\n",
      " 93%|█████████▎| 65/70 [03:15<00:14,  2.87s/it]\n",
      " 70%|██████▉   | 62/89 [03:15<01:16,  2.84s/it]\u001b[32m [repeated 8x across cluster]\u001b[0m\n",
      " 94%|█████████▍| 66/70 [03:18<00:11,  2.76s/it]\n",
      " 96%|█████████▌| 67/70 [03:20<00:08,  2.68s/it]\n",
      " 54%|█████▍    | 63/117 [03:20<02:39,  2.95s/it]\u001b[32m [repeated 8x across cluster]\u001b[0m\n",
      " 97%|█████████▋| 68/70 [03:23<00:05,  2.70s/it]\n",
      " 99%|█████████▊| 69/70 [03:26<00:02,  2.70s/it]\n",
      " 56%|█████▌    | 65/117 [03:26<02:31,  2.92s/it]\u001b[32m [repeated 10x across cluster]\u001b[0m\n",
      "100%|██████████| 70/70 [03:27<00:00,  2.97s/it]\n"
     ]
    },
    {
     "name": "stdout",
     "output_type": "stream",
     "text": [
      "\u001b[2m\u001b[36m(DefaultActor pid=1231224)\u001b[0m epoch: 0 loss: 0.6836500763893127\n"
     ]
    },
    {
     "name": "stderr",
     "output_type": "stream",
     "text": [
      " 57%|█████▋    | 67/117 [03:32<02:26,  2.94s/it]\u001b[32m [repeated 10x across cluster]\u001b[0m\n",
      " 92%|█████████▏| 71/77 [03:36<00:16,  2.75s/it]\n",
      " 72%|███████▏  | 71/99 [03:38<01:17,  2.76s/it]\u001b[32m [repeated 9x across cluster]\u001b[0m\n",
      " 94%|█████████▎| 72/77 [03:39<00:13,  2.74s/it]\n",
      " 95%|█████████▍| 73/77 [03:42<00:11,  2.78s/it]\n",
      " 74%|███████▎  | 73/99 [03:43<01:12,  2.80s/it]\u001b[32m [repeated 8x across cluster]\u001b[0m\n",
      " 96%|█████████▌| 74/77 [03:44<00:08,  2.78s/it]\n",
      " 97%|█████████▋| 75/77 [03:47<00:05,  2.81s/it]\n",
      " 76%|███████▌  | 75/99 [03:49<01:05,  2.74s/it]\u001b[32m [repeated 8x across cluster]\u001b[0m\n",
      " 99%|█████████▊| 76/77 [03:50<00:02,  2.81s/it]\n"
     ]
    },
    {
     "name": "stdout",
     "output_type": "stream",
     "text": [
      "\u001b[2m\u001b[36m(DefaultActor pid=1231227)\u001b[0m epoch: 0 loss: 0.698103666305542\n"
     ]
    },
    {
     "name": "stderr",
     "output_type": "stream",
     "text": [
      "100%|██████████| 77/77 [03:51<00:00,  3.00s/it]\n",
      " 91%|█████████▏| 74/81 [03:54<00:20,  2.97s/it]\n",
      " 78%|███████▊  | 77/99 [03:54<00:59,  2.71s/it]\u001b[32m [repeated 7x across cluster]\u001b[0m\n",
      " 93%|█████████▎| 75/81 [03:57<00:17,  2.91s/it]\n",
      " 94%|█████████▍| 76/81 [03:59<00:14,  2.88s/it]\n",
      " 80%|███████▉  | 79/99 [03:59<00:53,  2.68s/it]\u001b[32m [repeated 6x across cluster]\u001b[0m\n",
      " 95%|█████████▌| 77/81 [04:02<00:11,  2.82s/it]\n",
      " 96%|█████████▋| 78/81 [04:05<00:08,  2.77s/it]\n",
      " 82%|████████▏ | 81/99 [04:05<00:47,  2.64s/it]\u001b[32m [repeated 6x across cluster]\u001b[0m\n",
      " 98%|█████████▊| 79/81 [04:08<00:05,  2.83s/it]\n",
      " 99%|█████████▉| 80/81 [04:11<00:02,  2.95s/it]\n",
      " 91%|█████████ | 81/89 [04:08<00:21,  2.73s/it]\u001b[32m [repeated 5x across cluster]\u001b[0m\n"
     ]
    },
    {
     "name": "stdout",
     "output_type": "stream",
     "text": [
      "\u001b[2m\u001b[36m(DefaultActor pid=1231222)\u001b[0m epoch: 0 loss: 0.6858416199684143\n"
     ]
    },
    {
     "name": "stderr",
     "output_type": "stream",
     "text": [
      " 93%|█████████▎| 83/89 [04:13<00:16,  2.67s/it]\u001b[32m [repeated 3x across cluster]\u001b[0m\n",
      " 86%|████████▌ | 85/99 [04:16<00:38,  2.72s/it]\u001b[32m [repeated 5x across cluster]\u001b[0m\n",
      " 96%|█████████▌| 85/89 [04:19<00:10,  2.63s/it]\u001b[32m [repeated 2x across cluster]\u001b[0m\n",
      " 88%|████████▊ | 87/99 [04:21<00:31,  2.66s/it]\u001b[32m [repeated 4x across cluster]\u001b[0m\n",
      " 98%|█████████▊| 87/89 [04:24<00:05,  2.65s/it]\u001b[32m [repeated 2x across cluster]\u001b[0m\n",
      " 90%|████████▉ | 89/99 [04:26<00:25,  2.58s/it]\u001b[32m [repeated 4x across cluster]\u001b[0m\n"
     ]
    },
    {
     "name": "stdout",
     "output_type": "stream",
     "text": [
      "\u001b[2m\u001b[36m(DefaultActor pid=1231226)\u001b[0m epoch: 0 loss: 0.6825990676879883\n"
     ]
    },
    {
     "name": "stderr",
     "output_type": "stream",
     "text": [
      " 92%|█████████▏| 91/99 [04:31<00:20,  2.56s/it]\u001b[32m [repeated 3x across cluster]\u001b[0m\n",
      " 75%|███████▌  | 88/117 [04:29<01:17,  2.66s/it]\u001b[32m [repeated 3x across cluster]\u001b[0m\n",
      " 94%|█████████▍| 93/99 [04:37<00:15,  2.58s/it]\u001b[32m [repeated 2x across cluster]\u001b[0m\n",
      " 77%|███████▋  | 90/117 [04:34<01:09,  2.59s/it]\u001b[32m [repeated 2x across cluster]\u001b[0m\n",
      " 96%|█████████▌| 95/99 [04:42<00:10,  2.58s/it]\u001b[32m [repeated 2x across cluster]\u001b[0m\n",
      " 79%|███████▊  | 92/117 [04:39<01:04,  2.59s/it]\u001b[32m [repeated 2x across cluster]\u001b[0m\n",
      " 98%|█████████▊| 97/99 [04:46<00:04,  2.49s/it]\u001b[32m [repeated 2x across cluster]\u001b[0m\n",
      " 81%|████████  | 95/117 [04:47<00:58,  2.66s/it]\u001b[32m [repeated 3x across cluster]\u001b[0m\n"
     ]
    },
    {
     "name": "stdout",
     "output_type": "stream",
     "text": [
      "\u001b[2m\u001b[36m(DefaultActor pid=1231228)\u001b[0m epoch: 0 loss: 0.6810913681983948\n"
     ]
    },
    {
     "name": "stderr",
     "output_type": "stream",
     "text": [
      "100%|██████████| 99/99 [04:50<00:00,  2.94s/it]\u001b[32m [repeated 2x across cluster]\u001b[0m\n",
      " 84%|████████▍ | 98/117 [04:55<00:47,  2.53s/it]\u001b[32m [repeated 3x across cluster]\u001b[0m\n",
      " 86%|████████▋ | 101/117 [05:02<00:40,  2.51s/it]\u001b[32m [repeated 3x across cluster]\u001b[0m\n",
      " 88%|████████▊ | 103/117 [05:07<00:35,  2.54s/it]\u001b[32m [repeated 2x across cluster]\u001b[0m\n",
      " 90%|████████▉ | 105/117 [05:12<00:30,  2.51s/it]\u001b[32m [repeated 2x across cluster]\u001b[0m\n",
      " 91%|█████████▏| 107/117 [05:18<00:25,  2.53s/it]\n",
      " 91%|█████████ | 106/117 [05:15<00:27,  2.51s/it]\n",
      " 92%|█████████▏| 108/117 [05:20<00:22,  2.52s/it]\n",
      " 93%|█████████▎| 109/117 [05:22<00:19,  2.49s/it]\n",
      " 94%|█████████▍| 110/117 [05:25<00:17,  2.52s/it]\n",
      " 95%|█████████▍| 111/117 [05:28<00:15,  2.55s/it]\n",
      " 96%|█████████▌| 112/117 [05:30<00:12,  2.52s/it]\n",
      " 97%|█████████▋| 113/117 [05:33<00:10,  2.51s/it]\n",
      " 97%|█████████▋| 114/117 [05:35<00:07,  2.52s/it]\n",
      " 98%|█████████▊| 115/117 [05:38<00:04,  2.50s/it]\n",
      " 99%|█████████▉| 116/117 [05:40<00:02,  2.50s/it]\n",
      "100%|██████████| 117/117 [05:42<00:00,  2.92s/it]\n",
      "DEBUG flwr 2023-09-26 08:51:57,198 | server.py:236 | fit_round 2 received 10 results and 0 failures\n"
     ]
    },
    {
     "name": "stdout",
     "output_type": "stream",
     "text": [
      "\u001b[2m\u001b[36m(DefaultActor pid=1231225)\u001b[0m epoch: 0 loss: 0.6841023564338684\n"
     ]
    },
    {
     "name": "stderr",
     "output_type": "stream",
     "text": [
      "DEBUG flwr 2023-09-26 08:51:58,047 | server.py:173 | evaluate_round 2: strategy sampled 5 clients (out of 10)\n",
      "  0%|          | 0/1 [00:00<?, ?it/s]0m \n"
     ]
    },
    {
     "name": "stdout",
     "output_type": "stream",
     "text": [
      "\u001b[2m\u001b[36m(DefaultActor pid=1231225)\u001b[0m test_loss: 0.6690141558647156\n"
     ]
    },
    {
     "name": "stderr",
     "output_type": "stream",
     "text": [
      "100%|██████████| 1/1 [00:00<00:00,  1.23it/s]\n",
      "DEBUG flwr 2023-09-26 08:51:59,987 | server.py:187 | evaluate_round 2 received 5 results and 0 failures\n",
      "DEBUG flwr 2023-09-26 08:51:59,988 | server.py:222 | fit_round 3: strategy sampled 10 clients (out of 10)\n",
      "  2%|▏         | 1/47 [00:03<02:23,  3.13s/it]\n",
      "  0%|          | 0/47 [00:00<?, ?it/s]\u001b[32m [repeated 14x across cluster]\u001b[0m\n",
      "100%|██████████| 1/1 [00:00<00:00,  1.11it/s]\u001b[32m [repeated 4x across cluster]\u001b[0m\n",
      "  6%|▋         | 3/47 [00:08<02:08,  2.93s/it]\u001b[32m [repeated 20x across cluster]\u001b[0m\n",
      "  4%|▍         | 4/99 [00:12<05:03,  3.20s/it]\u001b[32m [repeated 17x across cluster]\u001b[0m\n",
      "  8%|▊         | 6/77 [00:19<03:45,  3.17s/it]\u001b[32m [repeated 16x across cluster]\u001b[0m\n",
      " 15%|█▌        | 8/52 [00:24<02:14,  3.06s/it]\u001b[32m [repeated 19x across cluster]\u001b[0m\n",
      " 21%|██▏       | 10/47 [00:29<01:52,  3.03s/it]\u001b[32m [repeated 15x across cluster]\u001b[0m\n",
      " 16%|█▌        | 11/70 [00:34<03:01,  3.07s/it]\u001b[32m [repeated 17x across cluster]\u001b[0m\n",
      " 28%|██▊       | 13/47 [00:39<01:37,  2.87s/it]\u001b[32m [repeated 18x across cluster]\u001b[0m\n",
      " 16%|█▌        | 14/89 [00:44<03:56,  3.15s/it]\u001b[32m [repeated 17x across cluster]\u001b[0m\n",
      " 15%|█▌        | 15/99 [00:49<04:42,  3.36s/it]\u001b[32m [repeated 16x across cluster]\u001b[0m\n",
      " 40%|████      | 19/47 [00:56<01:23,  2.97s/it]\u001b[32m [repeated 17x across cluster]\u001b[0m\n",
      " 23%|██▎       | 19/81 [01:01<03:22,  3.27s/it]\u001b[32m [repeated 16x across cluster]\u001b[0m\n",
      " 42%|████▏     | 22/52 [01:07<01:30,  3.00s/it]\u001b[32m [repeated 19x across cluster]\u001b[0m\n",
      " 51%|█████     | 24/47 [01:11<01:09,  3.03s/it]\u001b[32m [repeated 18x across cluster]\u001b[0m\n",
      " 30%|██▉       | 24/81 [01:17<03:03,  3.22s/it]\u001b[32m [repeated 17x across cluster]\u001b[0m\n",
      " 57%|█████▋    | 28/49 [01:22<01:00,  2.87s/it]\u001b[32m [repeated 16x across cluster]\u001b[0m\n",
      " 56%|█████▌    | 29/52 [01:27<01:09,  3.02s/it]\u001b[32m [repeated 15x across cluster]\u001b[0m\n",
      " 66%|██████▌   | 31/47 [01:33<00:51,  3.23s/it]\u001b[32m [repeated 16x across cluster]\u001b[0m\n",
      " 29%|██▉       | 29/99 [01:37<03:56,  3.38s/it]\u001b[32m [repeated 19x across cluster]\u001b[0m\n",
      " 65%|██████▌   | 34/52 [01:43<00:56,  3.16s/it]\u001b[32m [repeated 14x across cluster]\u001b[0m\n",
      " 77%|███████▋  | 36/47 [01:49<00:34,  3.17s/it]\u001b[32m [repeated 18x across cluster]\u001b[0m\n",
      " 39%|███▉      | 35/89 [01:53<02:56,  3.26s/it]\u001b[32m [repeated 17x across cluster]\u001b[0m\n",
      " 54%|█████▍    | 38/70 [01:59<01:39,  3.12s/it]\u001b[32m [repeated 17x across cluster]\u001b[0m\n",
      " 79%|███████▉  | 41/52 [02:04<00:34,  3.13s/it]\u001b[32m [repeated 16x across cluster]\u001b[0m\n",
      " 91%|█████████▏| 43/47 [02:09<00:11,  2.94s/it]\n",
      " 34%|███▍      | 40/117 [02:09<04:09,  3.24s/it]\u001b[32m [repeated 17x across cluster]\u001b[0m\n",
      " 94%|█████████▎| 44/47 [02:14<00:09,  3.15s/it]\u001b[32m [repeated 4x across cluster]\u001b[0m\n",
      " 52%|█████▏    | 42/81 [02:15<02:00,  3.08s/it]\u001b[32m [repeated 12x across cluster]\u001b[0m\n"
     ]
    },
    {
     "name": "stdout",
     "output_type": "stream",
     "text": [
      "\u001b[2m\u001b[36m(DefaultActor pid=1231229)\u001b[0m epoch: 0 loss: 0.6741527915000916\n",
      "\u001b[2m\u001b[36m(DefaultActor pid=1231227)\u001b[0m test_loss: 0.6678005456924438\u001b[32m [repeated 4x across cluster]\u001b[0m\n"
     ]
    },
    {
     "name": "stderr",
     "output_type": "stream",
     "text": [
      " 98%|█████████▊| 46/47 [02:20<00:03,  3.11s/it]\u001b[32m [repeated 7x across cluster]\u001b[0m\n",
      " 48%|████▊     | 43/89 [02:19<02:30,  3.26s/it]\u001b[32m [repeated 11x across cluster]\u001b[0m\n",
      " 92%|█████████▏| 48/52 [02:25<00:12,  3.04s/it]\u001b[32m [repeated 4x across cluster]\u001b[0m\n",
      " 38%|███▊      | 45/117 [02:24<03:42,  3.09s/it]\u001b[32m [repeated 12x across cluster]\u001b[0m\n",
      " 94%|█████████▍| 49/52 [02:28<00:08,  2.93s/it]\n",
      " 40%|████      | 47/117 [02:30<03:24,  2.93s/it]\u001b[32m [repeated 12x across cluster]\u001b[0m\n",
      " 96%|█████████▌| 50/52 [02:31<00:05,  2.82s/it]\n",
      " 98%|█████████▊| 51/52 [02:33<00:02,  2.86s/it]\n",
      "100%|██████████| 52/52 [02:35<00:00,  2.99s/it]\n"
     ]
    },
    {
     "name": "stdout",
     "output_type": "stream",
     "text": [
      "\u001b[2m\u001b[36m(DefaultActor pid=1231226)\u001b[0m epoch: 0 loss: 0.6795927882194519\u001b[32m [repeated 3x across cluster]\u001b[0m\n"
     ]
    },
    {
     "name": "stderr",
     "output_type": "stream",
     "text": [
      " 47%|████▋     | 47/99 [02:35<02:35,  2.99s/it]\u001b[32m [repeated 10x across cluster]\u001b[0m\n",
      " 66%|██████▌   | 51/77 [02:41<01:15,  2.90s/it]\u001b[32m [repeated 10x across cluster]\u001b[0m\n",
      " 65%|██████▌   | 53/81 [02:46<01:16,  2.74s/it]\u001b[32m [repeated 12x across cluster]\u001b[0m\n",
      " 71%|███████▏  | 55/77 [02:52<01:01,  2.81s/it]\u001b[32m [repeated 12x across cluster]\u001b[0m\n",
      " 55%|█████▍    | 54/99 [02:56<02:14,  3.00s/it]\u001b[32m [repeated 11x across cluster]\u001b[0m\n",
      " 65%|██████▌   | 58/89 [03:01<01:28,  2.87s/it]\u001b[32m [repeated 11x across cluster]\u001b[0m\n",
      " 87%|████████▋ | 61/70 [03:07<00:24,  2.77s/it]\u001b[32m [repeated 10x across cluster]\u001b[0m\n",
      " 60%|█████▉    | 59/99 [03:11<02:01,  3.03s/it]\u001b[32m [repeated 11x across cluster]\u001b[0m\n",
      " 91%|█████████▏| 64/70 [03:15<00:16,  2.75s/it]\n",
      " 83%|████████▎ | 64/77 [03:17<00:36,  2.81s/it]\u001b[32m [repeated 9x across cluster]\u001b[0m\n",
      " 93%|█████████▎| 65/70 [03:18<00:13,  2.77s/it]\n",
      " 94%|█████████▍| 66/70 [03:20<00:11,  2.75s/it]\n",
      " 86%|████████▌ | 66/77 [03:23<00:30,  2.78s/it]\u001b[32m [repeated 10x across cluster]\u001b[0m\n",
      " 96%|█████████▌| 67/70 [03:23<00:08,  2.76s/it]\n",
      " 97%|█████████▋| 68/70 [03:26<00:05,  2.77s/it]\n",
      " 75%|███████▌  | 67/89 [03:27<01:04,  2.93s/it]\u001b[32m [repeated 8x across cluster]\u001b[0m\n",
      " 99%|█████████▊| 69/70 [03:29<00:02,  2.79s/it]\n",
      "100%|██████████| 70/70 [03:30<00:00,  3.01s/it]\n"
     ]
    },
    {
     "name": "stdout",
     "output_type": "stream",
     "text": [
      "\u001b[2m\u001b[36m(DefaultActor pid=1231224)\u001b[0m epoch: 0 loss: 0.6837325096130371\n"
     ]
    },
    {
     "name": "stderr",
     "output_type": "stream",
     "text": [
      " 91%|█████████ | 70/77 [03:33<00:19,  2.73s/it]\u001b[32m [repeated 10x across cluster]\u001b[0m\n",
      " 92%|█████████▏| 71/77 [03:36<00:15,  2.61s/it]\n",
      " 94%|█████████▎| 72/77 [03:38<00:13,  2.67s/it]\n",
      " 69%|██████▊   | 68/99 [03:37<01:30,  2.92s/it]\u001b[32m [repeated 8x across cluster]\u001b[0m\n",
      " 95%|█████████▍| 73/77 [03:41<00:10,  2.67s/it]\n",
      " 71%|███████   | 70/99 [03:43<01:23,  2.88s/it]\u001b[32m [repeated 8x across cluster]\u001b[0m\n",
      " 96%|█████████▌| 74/77 [03:44<00:07,  2.67s/it]\n",
      " 63%|██████▎   | 74/117 [03:48<02:06,  2.94s/it]\u001b[32m [repeated 5x across cluster]\u001b[0m\n",
      " 99%|█████████▊| 76/77 [03:49<00:02,  2.65s/it]\u001b[32m [repeated 4x across cluster]\u001b[0m\n"
     ]
    },
    {
     "name": "stdout",
     "output_type": "stream",
     "text": [
      "\u001b[2m\u001b[36m(DefaultActor pid=1231228)\u001b[0m epoch: 0 loss: 0.7230992317199707\n"
     ]
    },
    {
     "name": "stderr",
     "output_type": "stream",
     "text": [
      " 75%|███████▍  | 74/99 [03:54<01:11,  2.84s/it]\u001b[32m [repeated 7x across cluster]\u001b[0m\n",
      " 95%|█████████▌| 77/81 [03:54<00:10,  2.73s/it]\u001b[32m [repeated 3x across cluster]\u001b[0m\n",
      " 89%|████████▉ | 79/89 [04:00<00:27,  2.71s/it]\u001b[32m [repeated 6x across cluster]\u001b[0m\n",
      " 98%|█████████▊| 79/81 [03:59<00:05,  2.74s/it]\u001b[32m [repeated 2x across cluster]\u001b[0m\n"
     ]
    },
    {
     "name": "stdout",
     "output_type": "stream",
     "text": [
      "\u001b[2m\u001b[36m(DefaultActor pid=1231222)\u001b[0m epoch: 0 loss: 0.6965312957763672\n"
     ]
    },
    {
     "name": "stderr",
     "output_type": "stream",
     "text": [
      " 91%|█████████ | 81/89 [04:05<00:21,  2.70s/it]\u001b[32m [repeated 6x across cluster]\u001b[0m\n",
      "100%|██████████| 81/81 [04:04<00:00,  3.02s/it]\u001b[32m [repeated 2x across cluster]\u001b[0m\n",
      " 70%|███████   | 82/117 [04:10<01:35,  2.72s/it]\u001b[32m [repeated 4x across cluster]\u001b[0m\n",
      " 93%|█████████▎| 83/89 [04:11<00:15,  2.66s/it]\u001b[32m [repeated 2x across cluster]\u001b[0m\n",
      " 72%|███████▏  | 84/117 [04:15<01:27,  2.64s/it]\u001b[32m [repeated 4x across cluster]\u001b[0m\n",
      " 96%|█████████▌| 85/89 [04:16<00:10,  2.72s/it]\u001b[32m [repeated 2x across cluster]\u001b[0m\n",
      " 74%|███████▎  | 86/117 [04:20<01:22,  2.66s/it]\u001b[32m [repeated 4x across cluster]\u001b[0m\n",
      " 98%|█████████▊| 87/89 [04:22<00:05,  2.70s/it]\u001b[32m [repeated 2x across cluster]\u001b[0m\n"
     ]
    },
    {
     "name": "stdout",
     "output_type": "stream",
     "text": [
      "\u001b[2m\u001b[36m(DefaultActor pid=1231220)\u001b[0m epoch: 0 loss: 0.6999411582946777\n"
     ]
    },
    {
     "name": "stderr",
     "output_type": "stream",
     "text": [
      " 87%|████████▋ | 86/99 [04:28<00:36,  2.77s/it]\u001b[32m [repeated 5x across cluster]\u001b[0m\n",
      "100%|██████████| 89/89 [04:26<00:00,  2.99s/it]\u001b[32m [repeated 2x across cluster]\u001b[0m\n",
      " 89%|████████▉ | 88/99 [04:33<00:29,  2.72s/it]\u001b[32m [repeated 4x across cluster]\u001b[0m\n",
      " 91%|█████████ | 90/99 [04:38<00:24,  2.70s/it]\u001b[32m [repeated 4x across cluster]\u001b[0m\n",
      " 92%|█████████▏| 91/99 [04:41<00:22,  2.79s/it]\n",
      " 81%|████████  | 95/117 [04:44<00:56,  2.56s/it]\u001b[32m [repeated 3x across cluster]\u001b[0m\n",
      " 93%|█████████▎| 92/99 [04:45<00:20,  2.89s/it]\n",
      " 94%|█████████▍| 93/99 [04:47<00:17,  2.84s/it]\n",
      " 83%|████████▎ | 97/117 [04:50<00:52,  2.63s/it]\u001b[32m [repeated 2x across cluster]\u001b[0m\n",
      " 95%|█████████▍| 94/99 [04:50<00:14,  2.83s/it]\n",
      " 96%|█████████▌| 95/99 [04:53<00:11,  2.82s/it]\n",
      " 85%|████████▍ | 99/117 [04:55<00:47,  2.64s/it]\u001b[32m [repeated 2x across cluster]\u001b[0m\n",
      " 97%|█████████▋| 96/99 [04:56<00:08,  2.80s/it]\n",
      " 98%|█████████▊| 97/99 [04:59<00:05,  2.82s/it]\n",
      " 86%|████████▋ | 101/117 [05:00<00:42,  2.63s/it]\u001b[32m [repeated 2x across cluster]\u001b[0m\n",
      " 99%|█████████▉| 98/99 [05:01<00:02,  2.77s/it]\n"
     ]
    },
    {
     "name": "stdout",
     "output_type": "stream",
     "text": [
      "\u001b[2m\u001b[36m(DefaultActor pid=1231223)\u001b[0m epoch: 0 loss: 0.6804059743881226\n"
     ]
    },
    {
     "name": "stderr",
     "output_type": "stream",
     "text": [
      "100%|██████████| 99/99 [05:03<00:00,  3.06s/it]\n",
      " 88%|████████▊ | 103/117 [05:06<00:36,  2.62s/it]\u001b[32m [repeated 2x across cluster]\u001b[0m\n",
      " 90%|████████▉ | 105/117 [05:11<00:30,  2.58s/it]\u001b[32m [repeated 2x across cluster]\u001b[0m\n",
      " 91%|█████████▏| 107/117 [05:16<00:25,  2.59s/it]\n",
      " 91%|█████████ | 106/117 [05:13<00:28,  2.56s/it]\n",
      " 92%|█████████▏| 108/117 [05:18<00:23,  2.59s/it]\n",
      " 93%|█████████▎| 109/117 [05:21<00:20,  2.54s/it]\n",
      " 94%|█████████▍| 110/117 [05:23<00:17,  2.54s/it]\n",
      " 95%|█████████▍| 111/117 [05:26<00:15,  2.51s/it]\n",
      " 96%|█████████▌| 112/117 [05:28<00:12,  2.44s/it]\n",
      " 97%|█████████▋| 113/117 [05:31<00:09,  2.45s/it]\n",
      " 97%|█████████▋| 114/117 [05:33<00:07,  2.48s/it]\n",
      " 98%|█████████▊| 115/117 [05:36<00:05,  2.55s/it]\n",
      " 99%|█████████▉| 116/117 [05:39<00:02,  2.61s/it]\n",
      "100%|██████████| 117/117 [05:40<00:00,  2.91s/it]\n",
      "DEBUG flwr 2023-09-26 08:57:42,203 | server.py:236 | fit_round 3 received 10 results and 0 failures\n"
     ]
    },
    {
     "name": "stdout",
     "output_type": "stream",
     "text": [
      "\u001b[2m\u001b[36m(DefaultActor pid=1231221)\u001b[0m epoch: 0 loss: 0.6841048002243042\n"
     ]
    },
    {
     "name": "stderr",
     "output_type": "stream",
     "text": [
      "DEBUG flwr 2023-09-26 08:57:43,128 | server.py:173 | evaluate_round 3: strategy sampled 5 clients (out of 10)\n",
      "  0%|          | 0/1 [00:00<?, ?it/s]0m \n"
     ]
    },
    {
     "name": "stdout",
     "output_type": "stream",
     "text": [
      "\u001b[2m\u001b[36m(DefaultActor pid=1231223)\u001b[0m test_loss: 0.668104887008667\n"
     ]
    },
    {
     "name": "stderr",
     "output_type": "stream",
     "text": [
      "100%|██████████| 1/1 [00:00<00:00,  1.42it/s]\n",
      "DEBUG flwr 2023-09-26 08:57:45,085 | server.py:187 | evaluate_round 3 received 5 results and 0 failures\n",
      "DEBUG flwr 2023-09-26 08:57:45,087 | server.py:222 | fit_round 4: strategy sampled 10 clients (out of 10)\n",
      "  1%|          | 1/81 [00:03<04:02,  3.03s/it]\n",
      "  0%|          | 0/52 [00:00<?, ?it/s]\u001b[32m [repeated 14x across cluster]\u001b[0m\n",
      "100%|██████████| 1/1 [00:00<00:00,  1.19it/s]\u001b[32m [repeated 4x across cluster]\u001b[0m\n",
      "  2%|▏         | 2/117 [00:07<06:50,  3.57s/it]\u001b[32m [repeated 19x across cluster]\u001b[0m\n",
      "  5%|▌         | 4/77 [00:12<03:51,  3.17s/it]\u001b[32m [repeated 15x across cluster]\u001b[0m\n",
      "  4%|▍         | 5/117 [00:17<06:25,  3.44s/it]\u001b[32m [repeated 17x across cluster]\u001b[0m\n",
      " 10%|█         | 7/70 [00:23<03:31,  3.35s/it]\u001b[32m [repeated 15x across cluster]\u001b[0m\n",
      "  7%|▋         | 8/117 [00:27<06:20,  3.49s/it]\u001b[32m [repeated 17x across cluster]\u001b[0m\n",
      " 11%|█         | 10/89 [00:33<04:17,  3.26s/it]\u001b[32m [repeated 18x across cluster]\u001b[0m\n",
      " 17%|█▋        | 12/70 [00:39<03:03,  3.17s/it]\u001b[32m [repeated 17x across cluster]\u001b[0m\n",
      " 11%|█         | 13/117 [00:44<05:43,  3.31s/it]\u001b[32m [repeated 18x across cluster]\u001b[0m\n",
      " 35%|███▍      | 17/49 [00:49<01:36,  3.02s/it]\u001b[32m [repeated 18x across cluster]\u001b[0m\n",
      " 38%|███▊      | 18/47 [00:55<01:30,  3.13s/it]\u001b[32m [repeated 17x across cluster]\u001b[0m\n",
      " 25%|██▍       | 19/77 [01:00<03:04,  3.18s/it]\u001b[32m [repeated 16x across cluster]\u001b[0m\n",
      " 22%|██▏       | 20/89 [01:05<03:40,  3.20s/it]\u001b[32m [repeated 17x across cluster]\u001b[0m\n",
      " 49%|████▉     | 23/47 [01:11<01:16,  3.18s/it]\u001b[32m [repeated 18x across cluster]\u001b[0m\n",
      " 34%|███▍      | 24/70 [01:16<02:23,  3.12s/it]\u001b[32m [repeated 17x across cluster]\u001b[0m\n",
      " 57%|█████▋    | 28/49 [01:21<01:01,  2.94s/it]\u001b[32m [repeated 17x across cluster]\u001b[0m\n",
      " 60%|█████▉    | 28/47 [01:27<00:57,  3.04s/it]\u001b[32m [repeated 16x across cluster]\u001b[0m\n",
      " 38%|███▊      | 29/77 [01:31<02:29,  3.12s/it]\u001b[32m [repeated 15x across cluster]\u001b[0m\n",
      " 70%|███████   | 33/47 [01:37<00:43,  3.12s/it]\u001b[32m [repeated 18x across cluster]\u001b[0m\n",
      " 71%|███████▏  | 35/49 [01:41<00:40,  2.93s/it]\u001b[32m [repeated 14x across cluster]\u001b[0m\n",
      " 27%|██▋       | 32/117 [01:46<04:38,  3.28s/it]\u001b[32m [repeated 17x across cluster]\u001b[0m\n",
      " 34%|███▍      | 34/99 [01:52<03:36,  3.33s/it]\u001b[32m [repeated 18x across cluster]\u001b[0m\n",
      " 81%|████████  | 38/47 [01:58<00:27,  3.04s/it]\u001b[32m [repeated 17x across cluster]\u001b[0m\n",
      " 54%|█████▍    | 38/70 [02:03<01:46,  3.33s/it]\u001b[32m [repeated 16x across cluster]\u001b[0m\n",
      " 91%|█████████▏| 43/47 [02:06<00:11,  2.90s/it]\n",
      " 83%|████████▎ | 43/52 [02:07<00:27,  3.03s/it]\u001b[32m [repeated 16x across cluster]\u001b[0m\n",
      " 94%|█████████▎| 44/47 [02:08<00:08,  2.77s/it]\n",
      " 96%|█████████▌| 45/47 [02:11<00:05,  2.70s/it]\u001b[32m [repeated 2x across cluster]\u001b[0m\n",
      " 53%|█████▎    | 43/81 [02:13<01:57,  3.10s/it]\u001b[32m [repeated 12x across cluster]\u001b[0m\n"
     ]
    },
    {
     "name": "stdout",
     "output_type": "stream",
     "text": [
      "\u001b[2m\u001b[36m(DefaultActor pid=1231223)\u001b[0m epoch: 0 loss: 0.7228387594223022\n",
      "\u001b[2m\u001b[36m(DefaultActor pid=1231228)\u001b[0m test_loss: 0.6650044918060303\u001b[32m [repeated 4x across cluster]\u001b[0m\n"
     ]
    },
    {
     "name": "stderr",
     "output_type": "stream",
     "text": [
      "100%|██████████| 47/47 [02:15<00:00,  2.89s/it]\u001b[32m [repeated 4x across cluster]\u001b[0m\n",
      " 61%|██████▏   | 43/70 [02:19<01:25,  3.18s/it]\u001b[32m [repeated 11x across cluster]\u001b[0m\n"
     ]
    },
    {
     "name": "stdout",
     "output_type": "stream",
     "text": [
      "\u001b[2m\u001b[36m(DefaultActor pid=1231225)\u001b[0m epoch: 0 loss: 0.6845133304595947\n"
     ]
    },
    {
     "name": "stderr",
     "output_type": "stream",
     "text": [
      "100%|██████████| 49/49 [02:20<00:00,  2.87s/it]\u001b[32m [repeated 5x across cluster]\u001b[0m\n",
      " 37%|███▋      | 43/117 [02:23<04:04,  3.30s/it]\u001b[32m [repeated 12x across cluster]\u001b[0m\n",
      "100%|██████████| 47/47 [02:25<00:00,  3.10s/it]\u001b[32m [repeated 4x across cluster]\u001b[0m\n",
      " 61%|██████    | 47/77 [02:28<01:29,  2.99s/it]\u001b[32m [repeated 11x across cluster]\u001b[0m\n"
     ]
    },
    {
     "name": "stdout",
     "output_type": "stream",
     "text": [
      "\u001b[2m\u001b[36m(DefaultActor pid=1231229)\u001b[0m epoch: 0 loss: 0.6825539469718933\u001b[32m [repeated 2x across cluster]\u001b[0m\n"
     ]
    },
    {
     "name": "stderr",
     "output_type": "stream",
     "text": [
      "100%|██████████| 52/52 [02:30<00:00,  2.89s/it]\u001b[32m [repeated 3x across cluster]\u001b[0m\n",
      " 64%|██████▎   | 49/77 [02:34<01:23,  3.00s/it]\u001b[32m [repeated 12x across cluster]\u001b[0m\n",
      " 55%|█████▌    | 49/89 [02:40<02:03,  3.08s/it]\u001b[32m [repeated 11x across cluster]\u001b[0m\n",
      " 43%|████▎     | 50/117 [02:45<03:36,  3.23s/it]\u001b[32m [repeated 11x across cluster]\u001b[0m\n",
      " 54%|█████▎    | 53/99 [02:51<02:15,  2.95s/it]\u001b[32m [repeated 11x across cluster]\u001b[0m\n",
      " 80%|████████  | 56/70 [02:56<00:39,  2.80s/it]\u001b[32m [repeated 11x across cluster]\u001b[0m\n",
      " 83%|████████▎ | 58/70 [03:01<00:33,  2.78s/it]\u001b[32m [repeated 11x across cluster]\u001b[0m\n",
      " 86%|████████▌ | 60/70 [03:07<00:28,  2.83s/it]\u001b[32m [repeated 12x across cluster]\u001b[0m\n",
      " 50%|█████     | 59/117 [03:11<02:50,  2.93s/it]\u001b[32m [repeated 11x across cluster]\u001b[0m\n",
      " 63%|██████▎   | 62/99 [03:17<01:52,  3.03s/it]\u001b[32m [repeated 11x across cluster]\u001b[0m\n",
      " 91%|█████████▏| 64/70 [03:19<00:17,  2.94s/it]\n",
      " 93%|█████████▎| 65/70 [03:22<00:14,  2.83s/it]\n",
      " 71%|███████   | 63/89 [03:22<01:19,  3.05s/it]\u001b[32m [repeated 7x across cluster]\u001b[0m\n",
      " 94%|█████████▍| 66/70 [03:25<00:11,  2.88s/it]\n",
      " 96%|█████████▌| 67/70 [03:28<00:08,  2.91s/it]\n",
      " 55%|█████▍    | 64/117 [03:26<02:36,  2.96s/it]\u001b[32m [repeated 9x across cluster]\u001b[0m\n",
      " 97%|█████████▋| 68/70 [03:30<00:05,  2.90s/it]\n",
      " 56%|█████▋    | 66/117 [03:32<02:31,  2.98s/it]\u001b[32m [repeated 10x across cluster]\u001b[0m\n",
      " 99%|█████████▊| 69/70 [03:33<00:02,  2.86s/it]\n"
     ]
    },
    {
     "name": "stdout",
     "output_type": "stream",
     "text": [
      "\u001b[2m\u001b[36m(DefaultActor pid=1231220)\u001b[0m epoch: 0 loss: 0.6836501359939575\n"
     ]
    },
    {
     "name": "stderr",
     "output_type": "stream",
     "text": [
      "100%|██████████| 70/70 [03:35<00:00,  3.08s/it]\n",
      " 92%|█████████▏| 71/77 [03:38<00:18,  3.09s/it]\n",
      " 70%|██████▉   | 69/99 [03:38<01:25,  2.86s/it]\u001b[32m [repeated 8x across cluster]\u001b[0m\n",
      " 93%|█████████▎| 75/81 [03:42<00:16,  2.68s/it]\u001b[32m [repeated 3x across cluster]\u001b[0m\n",
      " 72%|███████▏  | 71/99 [03:43<01:19,  2.84s/it]\u001b[32m [repeated 6x across cluster]\u001b[0m\n",
      " 95%|█████████▌| 77/81 [03:47<00:10,  2.69s/it]\u001b[32m [repeated 4x across cluster]\u001b[0m\n",
      " 81%|████████  | 72/89 [03:48<00:49,  2.93s/it]\u001b[32m [repeated 5x across cluster]\u001b[0m\n"
     ]
    },
    {
     "name": "stdout",
     "output_type": "stream",
     "text": [
      "\u001b[2m\u001b[36m(DefaultActor pid=1231224)\u001b[0m epoch: 0 loss: 0.7281695008277893\n"
     ]
    },
    {
     "name": "stderr",
     "output_type": "stream",
     "text": [
      " 99%|█████████▉| 80/81 [03:55<00:02,  2.66s/it]\u001b[32m [repeated 6x across cluster]\u001b[0m\n",
      " 62%|██████▏   | 73/117 [03:52<02:04,  2.83s/it]\u001b[32m [repeated 5x across cluster]\u001b[0m\n",
      "100%|██████████| 81/81 [03:57<00:00,  2.93s/it]\n",
      " 85%|████████▌ | 76/89 [04:00<00:37,  2.87s/it]\u001b[32m [repeated 7x across cluster]\u001b[0m\n",
      " 80%|███████▉  | 79/99 [04:06<00:54,  2.74s/it]\u001b[32m [repeated 6x across cluster]\u001b[0m\n",
      " 82%|████████▏ | 81/99 [04:11<00:49,  2.76s/it]\u001b[32m [repeated 6x across cluster]\u001b[0m\n",
      " 84%|████████▍ | 83/99 [04:17<00:44,  2.76s/it]\u001b[32m [repeated 6x across cluster]\u001b[0m\n",
      " 92%|█████████▏| 82/89 [04:17<00:20,  2.88s/it]\n",
      " 93%|█████████▎| 83/89 [04:20<00:16,  2.81s/it]\n",
      " 71%|███████   | 83/117 [04:21<01:40,  2.94s/it]\u001b[32m [repeated 3x across cluster]\u001b[0m\n",
      " 94%|█████████▍| 84/89 [04:23<00:14,  2.81s/it]\n",
      " 96%|█████████▌| 85/89 [04:25<00:11,  2.83s/it]\n",
      " 88%|████████▊ | 87/99 [04:27<00:31,  2.62s/it]\u001b[32m [repeated 4x across cluster]\u001b[0m\n",
      " 97%|█████████▋| 86/89 [04:28<00:08,  2.84s/it]\n",
      " 98%|█████████▊| 87/89 [04:31<00:05,  2.81s/it]\n",
      " 74%|███████▍  | 87/117 [04:33<01:25,  2.85s/it]\u001b[32m [repeated 5x across cluster]\u001b[0m\n",
      " 99%|█████████▉| 88/89 [04:34<00:02,  2.82s/it]\n",
      "100%|██████████| 89/89 [04:35<00:00,  3.10s/it]\n"
     ]
    },
    {
     "name": "stdout",
     "output_type": "stream",
     "text": [
      "\u001b[2m\u001b[36m(DefaultActor pid=1231226)\u001b[0m epoch: 0 loss: 0.7049010992050171\u001b[32m [repeated 2x across cluster]\u001b[0m\n"
     ]
    },
    {
     "name": "stderr",
     "output_type": "stream",
     "text": [
      " 92%|█████████▏| 91/99 [04:37<00:20,  2.52s/it]\n",
      " 76%|███████▌  | 89/117 [04:38<01:18,  2.81s/it]\u001b[32m [repeated 3x across cluster]\u001b[0m\n",
      " 93%|█████████▎| 92/99 [04:40<00:18,  2.60s/it]\n",
      " 94%|█████████▍| 93/99 [04:43<00:15,  2.65s/it]\n",
      " 78%|███████▊  | 91/117 [04:44<01:12,  2.78s/it]\u001b[32m [repeated 2x across cluster]\u001b[0m\n",
      " 95%|█████████▍| 94/99 [04:46<00:13,  2.68s/it]\n",
      " 96%|█████████▌| 95/99 [04:48<00:10,  2.65s/it]\n",
      " 79%|███████▉  | 93/117 [04:49<01:06,  2.78s/it]\u001b[32m [repeated 2x across cluster]\u001b[0m\n",
      " 97%|█████████▋| 96/99 [04:51<00:08,  2.68s/it]\n",
      " 98%|█████████▊| 97/99 [04:54<00:05,  2.71s/it]\n",
      " 81%|████████  | 95/117 [04:55<00:59,  2.69s/it]\u001b[32m [repeated 2x across cluster]\u001b[0m\n",
      " 99%|█████████▉| 98/99 [04:56<00:02,  2.63s/it]\n"
     ]
    },
    {
     "name": "stdout",
     "output_type": "stream",
     "text": [
      "\u001b[2m\u001b[36m(DefaultActor pid=1231221)\u001b[0m epoch: 0 loss: 0.6808375716209412\n"
     ]
    },
    {
     "name": "stderr",
     "output_type": "stream",
     "text": [
      "100%|██████████| 99/99 [04:58<00:00,  3.01s/it]\n",
      " 84%|████████▍ | 98/117 [05:02<00:48,  2.57s/it]\u001b[32m [repeated 3x across cluster]\u001b[0m\n",
      " 85%|████████▌ | 100/117 [05:07<00:44,  2.61s/it]\u001b[32m [repeated 2x across cluster]\u001b[0m\n",
      " 87%|████████▋ | 102/117 [05:13<00:39,  2.66s/it]\u001b[32m [repeated 2x across cluster]\u001b[0m\n",
      " 90%|████████▉ | 105/117 [05:20<00:31,  2.59s/it]\u001b[32m [repeated 3x across cluster]\u001b[0m\n",
      " 91%|█████████▏| 107/117 [05:26<00:26,  2.64s/it]\n",
      " 91%|█████████ | 106/117 [05:23<00:29,  2.64s/it]\n",
      " 92%|█████████▏| 108/117 [05:28<00:23,  2.64s/it]\n",
      " 93%|█████████▎| 109/117 [05:31<00:21,  2.67s/it]\n",
      " 94%|█████████▍| 110/117 [05:34<00:18,  2.63s/it]\n",
      " 95%|█████████▍| 111/117 [05:36<00:15,  2.65s/it]\n",
      " 96%|█████████▌| 112/117 [05:39<00:13,  2.69s/it]\n",
      " 97%|█████████▋| 113/117 [05:42<00:10,  2.67s/it]\n",
      " 97%|█████████▋| 114/117 [05:44<00:07,  2.66s/it]\n",
      " 98%|█████████▊| 115/117 [05:47<00:05,  2.65s/it]\n",
      " 99%|█████████▉| 116/117 [05:50<00:02,  2.65s/it]\n",
      "100%|██████████| 117/117 [05:51<00:00,  3.01s/it]\n",
      "DEBUG flwr 2023-09-26 09:03:38,869 | server.py:236 | fit_round 4 received 10 results and 0 failures\n"
     ]
    },
    {
     "name": "stdout",
     "output_type": "stream",
     "text": [
      "\u001b[2m\u001b[36m(DefaultActor pid=1231227)\u001b[0m epoch: 0 loss: 0.7077162861824036\n"
     ]
    },
    {
     "name": "stderr",
     "output_type": "stream",
     "text": [
      "DEBUG flwr 2023-09-26 09:03:39,764 | server.py:173 | evaluate_round 4: strategy sampled 5 clients (out of 10)\n",
      "  0%|          | 0/1 [00:00<?, ?it/s]0m \n"
     ]
    },
    {
     "name": "stdout",
     "output_type": "stream",
     "text": [
      "\u001b[2m\u001b[36m(DefaultActor pid=1231227)\u001b[0m test_loss: 0.6641069054603577\n"
     ]
    },
    {
     "name": "stderr",
     "output_type": "stream",
     "text": [
      "100%|██████████| 1/1 [00:00<00:00,  1.69it/s]\n",
      "DEBUG flwr 2023-09-26 09:03:41,621 | server.py:187 | evaluate_round 4 received 5 results and 0 failures\n",
      "DEBUG flwr 2023-09-26 09:03:41,623 | server.py:222 | fit_round 5: strategy sampled 10 clients (out of 10)\n",
      "100%|██████████| 1/1 [00:00<00:00,  1.17it/s]\u001b[32m [repeated 4x across cluster]\u001b[0m\n",
      "  2%|▏         | 1/52 [00:02<02:31,  2.97s/it]\n",
      "  0%|          | 0/89 [00:00<?, ?it/s]\u001b[32m [repeated 14x across cluster]\u001b[0m\n",
      "  6%|▌         | 3/52 [00:08<02:16,  2.78s/it]\u001b[32m [repeated 20x across cluster]\u001b[0m\n",
      " 10%|▉         | 5/52 [00:13<02:03,  2.63s/it]\u001b[32m [repeated 15x across cluster]\u001b[0m\n",
      " 13%|█▎        | 6/47 [00:18<02:07,  3.11s/it]\u001b[32m [repeated 18x across cluster]\u001b[0m\n",
      "  7%|▋         | 7/99 [00:22<04:52,  3.18s/it]\u001b[32m [repeated 14x across cluster]\u001b[0m\n",
      " 12%|█▏        | 9/77 [00:28<03:37,  3.19s/it]\u001b[32m [repeated 18x across cluster]\u001b[0m\n",
      " 23%|██▎       | 11/47 [00:34<01:55,  3.20s/it]\u001b[32m [repeated 18x across cluster]\u001b[0m\n",
      " 17%|█▋        | 12/70 [00:38<03:04,  3.18s/it]\u001b[32m [repeated 16x across cluster]\u001b[0m\n",
      " 31%|███       | 16/52 [00:45<01:46,  2.96s/it]\u001b[32m [repeated 16x across cluster]\u001b[0m\n",
      " 19%|█▊        | 15/81 [00:49<03:35,  3.26s/it]\u001b[32m [repeated 19x across cluster]\u001b[0m\n",
      " 24%|██▍       | 17/70 [00:54<02:48,  3.18s/it]\u001b[32m [repeated 15x across cluster]\u001b[0m\n",
      " 18%|█▊        | 18/99 [00:59<04:42,  3.49s/it]\u001b[32m [repeated 17x across cluster]\u001b[0m\n",
      " 21%|██▏       | 19/89 [01:04<03:52,  3.32s/it]\u001b[32m [repeated 16x across cluster]\u001b[0m\n",
      " 31%|███▏      | 22/70 [01:10<02:32,  3.18s/it]\u001b[32m [repeated 17x across cluster]\u001b[0m\n",
      " 23%|██▎       | 23/99 [01:15<04:10,  3.29s/it]\u001b[32m [repeated 17x across cluster]\u001b[0m\n",
      " 55%|█████▌    | 27/49 [01:21<01:05,  2.98s/it]\u001b[32m [repeated 18x across cluster]\u001b[0m\n",
      " 60%|█████▉    | 28/47 [01:27<00:59,  3.15s/it]\u001b[32m [repeated 16x across cluster]\u001b[0m\n",
      " 28%|██▊       | 28/99 [01:31<03:46,  3.19s/it]\u001b[32m [repeated 16x across cluster]\u001b[0m\n",
      " 65%|██████▌   | 32/49 [01:36<00:49,  2.94s/it]\u001b[32m [repeated 18x across cluster]\u001b[0m\n",
      " 74%|███████▍  | 35/47 [01:42<00:35,  2.95s/it]\u001b[32m [repeated 15x across cluster]\u001b[0m\n",
      " 47%|████▋     | 33/70 [01:47<02:03,  3.34s/it]\u001b[32m [repeated 17x across cluster]\u001b[0m\n",
      " 37%|███▋      | 33/89 [01:51<03:11,  3.42s/it]\u001b[32m [repeated 17x across cluster]\u001b[0m\n",
      " 36%|███▋      | 36/99 [01:57<03:28,  3.31s/it]\u001b[32m [repeated 16x across cluster]\u001b[0m\n",
      " 89%|████████▉ | 42/47 [02:04<00:15,  3.09s/it]\u001b[32m [repeated 18x across cluster]\u001b[0m\n",
      " 91%|█████████▏| 43/47 [02:06<00:11,  2.92s/it]\n",
      " 33%|███▎      | 39/117 [02:08<04:03,  3.12s/it]\u001b[32m [repeated 16x across cluster]\u001b[0m\n",
      " 94%|█████████▎| 44/47 [02:09<00:08,  2.91s/it]\n",
      " 92%|█████████▏| 48/52 [02:09<00:10,  2.56s/it]\n",
      " 96%|█████████▌| 45/47 [02:12<00:05,  2.82s/it]\n",
      " 90%|████████▉ | 44/49 [02:13<00:15,  3.12s/it]\u001b[32m [repeated 11x across cluster]\u001b[0m\n"
     ]
    },
    {
     "name": "stdout",
     "output_type": "stream",
     "text": [
      "\u001b[2m\u001b[36m(DefaultActor pid=1231224)\u001b[0m epoch: 0 loss: 0.6741622686386108\n",
      "\u001b[2m\u001b[36m(DefaultActor pid=1231224)\u001b[0m test_loss: 0.6664621829986572\u001b[32m [repeated 4x across cluster]\u001b[0m\n"
     ]
    },
    {
     "name": "stderr",
     "output_type": "stream",
     "text": [
      " 92%|█████████▏| 45/49 [02:16<00:11,  2.96s/it]\u001b[32m [repeated 6x across cluster]\u001b[0m\n"
     ]
    },
    {
     "name": "stdout",
     "output_type": "stream",
     "text": [
      "\u001b[2m\u001b[36m(DefaultActor pid=1231228)\u001b[0m epoch: 0 loss: 0.6778544783592224\n"
     ]
    },
    {
     "name": "stderr",
     "output_type": "stream",
     "text": [
      " 36%|███▌      | 42/117 [02:18<03:59,  3.19s/it]\u001b[32m [repeated 10x across cluster]\u001b[0m\n",
      " 96%|█████████▌| 45/47 [02:20<00:06,  3.07s/it]\u001b[32m [repeated 5x across cluster]\u001b[0m\n",
      " 38%|███▊      | 44/117 [02:24<03:50,  3.16s/it]\u001b[32m [repeated 12x across cluster]\u001b[0m\n"
     ]
    },
    {
     "name": "stdout",
     "output_type": "stream",
     "text": [
      "\u001b[2m\u001b[36m(DefaultActor pid=1231226)\u001b[0m epoch: 0 loss: 0.705624520778656\n",
      "\u001b[2m\u001b[36m(DefaultActor pid=1231229)\u001b[0m epoch: 0 loss: 0.6845972537994385\n"
     ]
    },
    {
     "name": "stderr",
     "output_type": "stream",
     "text": [
      "100%|██████████| 49/49 [02:26<00:00,  2.99s/it]\u001b[32m [repeated 5x across cluster]\u001b[0m\n",
      " 66%|██████▌   | 46/70 [02:29<01:18,  3.27s/it]\u001b[32m [repeated 11x across cluster]\u001b[0m\n",
      " 58%|█████▊    | 47/81 [02:35<01:48,  3.19s/it]\u001b[32m [repeated 11x across cluster]\u001b[0m\n",
      " 54%|█████▍    | 48/89 [02:40<02:04,  3.04s/it]\u001b[32m [repeated 11x across cluster]\u001b[0m\n",
      " 44%|████▎     | 51/117 [02:46<03:16,  2.98s/it]\u001b[32m [repeated 10x across cluster]\u001b[0m\n",
      " 71%|███████▏  | 55/77 [02:51<01:04,  2.93s/it]\u001b[32m [repeated 11x across cluster]\u001b[0m\n",
      " 67%|██████▋   | 54/81 [02:57<01:22,  3.06s/it]\u001b[32m [repeated 11x across cluster]\u001b[0m\n",
      " 81%|████████▏ | 57/70 [03:02<00:38,  2.97s/it]\u001b[32m [repeated 10x across cluster]\u001b[0m\n",
      " 50%|████▉     | 58/117 [03:07<03:02,  3.09s/it]\u001b[32m [repeated 11x across cluster]\u001b[0m\n",
      " 51%|█████▏    | 60/117 [03:13<02:54,  3.06s/it]\u001b[32m [repeated 11x across cluster]\u001b[0m\n",
      " 89%|████████▊ | 62/70 [03:18<00:26,  3.26s/it]\u001b[32m [repeated 10x across cluster]\u001b[0m\n",
      " 77%|███████▋  | 62/81 [03:24<01:05,  3.46s/it]\u001b[32m [repeated 9x across cluster]\u001b[0m\n",
      " 91%|█████████▏| 64/70 [03:25<00:20,  3.34s/it]\n",
      " 93%|█████████▎| 65/70 [03:28<00:17,  3.42s/it]\n",
      " 71%|███████   | 63/89 [03:29<01:31,  3.54s/it]\u001b[32m [repeated 8x across cluster]\u001b[0m\n",
      " 94%|█████████▍| 66/70 [03:32<00:13,  3.45s/it]\n",
      " 69%|██████▊   | 68/99 [03:35<01:44,  3.37s/it]\u001b[32m [repeated 9x across cluster]\u001b[0m\n",
      " 96%|█████████▌| 67/70 [03:36<00:10,  3.53s/it]\n",
      " 97%|█████████▋| 68/70 [03:39<00:06,  3.47s/it]\n",
      " 58%|█████▊    | 68/117 [03:41<02:47,  3.41s/it]\u001b[32m [repeated 6x across cluster]\u001b[0m\n",
      " 99%|█████████▊| 69/70 [03:42<00:03,  3.50s/it]\u001b[32m [repeated 2x across cluster]\u001b[0m\n"
     ]
    },
    {
     "name": "stdout",
     "output_type": "stream",
     "text": [
      "\u001b[2m\u001b[36m(DefaultActor pid=1231225)\u001b[0m epoch: 0 loss: 0.6836498975753784\n"
     ]
    },
    {
     "name": "stderr",
     "output_type": "stream",
     "text": [
      " 84%|████████▍ | 68/81 [03:46<00:48,  3.71s/it]\u001b[32m [repeated 7x across cluster]\u001b[0m\n",
      " 95%|█████████▍| 73/77 [03:49<00:13,  3.47s/it]\u001b[32m [repeated 3x across cluster]\u001b[0m\n",
      " 61%|██████    | 71/117 [03:52<02:48,  3.67s/it]\u001b[32m [repeated 5x across cluster]\u001b[0m\n",
      " 97%|█████████▋| 75/77 [03:56<00:06,  3.47s/it]\u001b[32m [repeated 2x across cluster]\u001b[0m\n",
      " 88%|████████▊ | 71/81 [03:58<00:37,  3.78s/it]\u001b[32m [repeated 7x across cluster]\u001b[0m\n"
     ]
    },
    {
     "name": "stdout",
     "output_type": "stream",
     "text": [
      "\u001b[2m\u001b[36m(DefaultActor pid=1231221)\u001b[0m epoch: 0 loss: 0.7319042682647705\n"
     ]
    },
    {
     "name": "stderr",
     "output_type": "stream",
     "text": [
      "100%|██████████| 77/77 [04:00<00:00,  3.13s/it]\u001b[32m [repeated 2x across cluster]\u001b[0m\n",
      " 63%|██████▎   | 74/117 [04:03<02:35,  3.63s/it]\u001b[32m [repeated 5x across cluster]\u001b[0m\n",
      " 91%|█████████▏| 74/81 [04:08<00:24,  3.56s/it]\n",
      " 79%|███████▉  | 78/99 [04:09<01:07,  3.22s/it]\u001b[32m [repeated 7x across cluster]\u001b[0m\n",
      " 93%|█████████▎| 75/81 [04:12<00:21,  3.52s/it]\n",
      " 94%|█████████▍| 76/81 [04:15<00:17,  3.52s/it]\n",
      " 84%|████████▍ | 75/89 [04:13<00:49,  3.55s/it]\u001b[32m [repeated 5x across cluster]\u001b[0m\n",
      " 95%|█████████▌| 77/81 [04:18<00:13,  3.48s/it]\n",
      " 83%|████████▎ | 82/99 [04:20<00:49,  2.92s/it]\u001b[32m [repeated 6x across cluster]\u001b[0m\n",
      " 96%|█████████▋| 78/81 [04:22<00:10,  3.42s/it]\n",
      " 98%|█████████▊| 79/81 [04:25<00:06,  3.27s/it]\n",
      " 85%|████████▍ | 84/99 [04:26<00:41,  2.76s/it]\u001b[32m [repeated 6x across cluster]\u001b[0m\n",
      " 99%|█████████▉| 80/81 [04:28<00:03,  3.21s/it]\n"
     ]
    },
    {
     "name": "stdout",
     "output_type": "stream",
     "text": [
      "\u001b[2m\u001b[36m(DefaultActor pid=1231227)\u001b[0m epoch: 0 loss: 0.6860312819480896\n"
     ]
    },
    {
     "name": "stderr",
     "output_type": "stream",
     "text": [
      "100%|██████████| 81/81 [04:30<00:00,  3.34s/it]\n",
      " 90%|████████▉ | 80/89 [04:31<00:31,  3.49s/it]\u001b[32m [repeated 4x across cluster]\u001b[0m\n",
      " 73%|███████▎  | 85/117 [04:37<01:34,  2.96s/it]\u001b[32m [repeated 6x across cluster]\u001b[0m\n",
      " 92%|█████████▏| 82/89 [04:37<00:23,  3.41s/it]\n",
      " 93%|█████████▎| 83/89 [04:41<00:20,  3.42s/it]\n",
      " 74%|███████▍  | 87/117 [04:43<01:31,  3.07s/it]\u001b[32m [repeated 4x across cluster]\u001b[0m\n",
      " 94%|█████████▍| 84/89 [04:44<00:17,  3.45s/it]\n",
      " 75%|███████▌  | 88/117 [04:47<01:31,  3.15s/it]\u001b[32m [repeated 2x across cluster]\u001b[0m\n",
      " 97%|█████████▋| 86/89 [04:51<00:10,  3.44s/it]\u001b[32m [repeated 4x across cluster]\u001b[0m\n",
      " 77%|███████▋  | 90/117 [04:52<01:18,  2.92s/it]\u001b[32m [repeated 2x across cluster]\u001b[0m\n",
      " 96%|█████████▌| 95/99 [04:57<00:11,  2.91s/it]\u001b[32m [repeated 4x across cluster]\u001b[0m\n"
     ]
    },
    {
     "name": "stdout",
     "output_type": "stream",
     "text": [
      "\u001b[2m\u001b[36m(DefaultActor pid=1231223)\u001b[0m epoch: 0 loss: 0.682594895362854\n"
     ]
    },
    {
     "name": "stderr",
     "output_type": "stream",
     "text": [
      " 79%|███████▊  | 92/117 [04:58<01:13,  2.95s/it]\u001b[32m [repeated 2x across cluster]\u001b[0m\n",
      " 98%|█████████▊| 97/99 [05:03<00:05,  2.82s/it]\u001b[32m [repeated 4x across cluster]\u001b[0m\n",
      " 80%|████████  | 94/117 [05:05<01:11,  3.13s/it]\u001b[32m [repeated 2x across cluster]\u001b[0m\n"
     ]
    },
    {
     "name": "stdout",
     "output_type": "stream",
     "text": [
      "\u001b[2m\u001b[36m(DefaultActor pid=1231222)\u001b[0m epoch: 0 loss: 0.6812757253646851\n"
     ]
    },
    {
     "name": "stderr",
     "output_type": "stream",
     "text": [
      "100%|██████████| 99/99 [05:07<00:00,  3.11s/it]\u001b[32m [repeated 2x across cluster]\u001b[0m\n",
      " 82%|████████▏ | 96/117 [05:12<01:10,  3.38s/it]\u001b[32m [repeated 2x across cluster]\u001b[0m\n",
      " 84%|████████▍ | 98/117 [05:18<00:59,  3.12s/it]\u001b[32m [repeated 2x across cluster]\u001b[0m\n",
      " 85%|████████▌ | 100/117 [05:23<00:51,  3.01s/it]\u001b[32m [repeated 2x across cluster]\u001b[0m\n",
      " 87%|████████▋ | 102/117 [05:29<00:42,  2.84s/it]\u001b[32m [repeated 2x across cluster]\u001b[0m\n",
      " 89%|████████▉ | 104/117 [05:34<00:36,  2.78s/it]\u001b[32m [repeated 2x across cluster]\u001b[0m\n",
      " 91%|█████████ | 106/117 [05:40<00:30,  2.79s/it]\u001b[32m [repeated 2x across cluster]\u001b[0m\n",
      " 91%|█████████▏| 107/117 [05:43<00:27,  2.78s/it]\n",
      " 92%|█████████▏| 108/117 [05:45<00:25,  2.79s/it]\n",
      " 93%|█████████▎| 109/117 [05:49<00:23,  2.88s/it]\n",
      " 94%|█████████▍| 110/117 [05:52<00:21,  3.14s/it]\n",
      " 95%|█████████▍| 111/117 [05:56<00:20,  3.38s/it]\n",
      " 96%|█████████▌| 112/117 [06:00<00:17,  3.48s/it]\n",
      " 97%|█████████▋| 113/117 [06:04<00:14,  3.56s/it]\n",
      " 97%|█████████▋| 114/117 [06:07<00:10,  3.61s/it]\n",
      " 98%|█████████▊| 115/117 [06:10<00:06,  3.39s/it]\n",
      " 99%|█████████▉| 116/117 [06:13<00:03,  3.28s/it]\n",
      "100%|██████████| 117/117 [06:15<00:00,  3.21s/it]\n",
      "DEBUG flwr 2023-09-26 09:09:58,780 | server.py:236 | fit_round 5 received 10 results and 0 failures\n"
     ]
    },
    {
     "name": "stdout",
     "output_type": "stream",
     "text": [
      "\u001b[2m\u001b[36m(DefaultActor pid=1231220)\u001b[0m epoch: 0 loss: 0.68409663438797\n"
     ]
    },
    {
     "name": "stderr",
     "output_type": "stream",
     "text": [
      "DEBUG flwr 2023-09-26 09:10:00,582 | server.py:173 | evaluate_round 5: strategy sampled 5 clients (out of 10)\n",
      "  0%|          | 0/1 [00:00<?, ?it/s]0m \n",
      "100%|██████████| 1/1 [00:00<00:00,  1.62it/s]\n",
      "100%|██████████| 1/1 [00:00<00:00,  1.22it/s]\n"
     ]
    },
    {
     "name": "stdout",
     "output_type": "stream",
     "text": [
      "\u001b[2m\u001b[36m(DefaultActor pid=1231222)\u001b[0m test_loss: 0.6693738102912903\n"
     ]
    },
    {
     "name": "stderr",
     "output_type": "stream",
     "text": [
      "DEBUG flwr 2023-09-26 09:10:02,941 | server.py:187 | evaluate_round 5 received 5 results and 0 failures\n",
      "INFO flwr 2023-09-26 09:10:02,942 | server.py:153 | FL finished in 1776.8997298448812\n",
      "INFO flwr 2023-09-26 09:10:03,016 | app.py:225 | app_fit: losses_distributed [(1, 0.6628390192985535), (2, 0.6679208755493165), (3, 0.6676327347755432), (4, 0.6666861653327942), (5, 0.667325758934021)]\n",
      "INFO flwr 2023-09-26 09:10:03,019 | app.py:226 | app_fit: metrics_distributed_fit {}\n",
      "INFO flwr 2023-09-26 09:10:03,020 | app.py:227 | app_fit: metrics_distributed {}\n",
      "INFO flwr 2023-09-26 09:10:03,022 | app.py:228 | app_fit: losses_centralized []\n",
      "INFO flwr 2023-09-26 09:10:03,023 | app.py:229 | app_fit: metrics_centralized {}\n"
     ]
    },
    {
     "data": {
      "text/plain": [
       "History (loss, distributed):\n",
       "\tround 1: 0.6628390192985535\n",
       "\tround 2: 0.6679208755493165\n",
       "\tround 3: 0.6676327347755432\n",
       "\tround 4: 0.6666861653327942\n",
       "\tround 5: 0.667325758934021"
      ]
     },
     "execution_count": 36,
     "metadata": {},
     "output_type": "execute_result"
    }
   ],
   "source": [
    "def get_parameters(net) -> List[np.ndarray]:\n",
    "    return [val.cpu().numpy() for _, val in net.state_dict().items()]\n",
    "\n",
    "\n",
    "def set_parameters(net, parameters: List[np.ndarray]):\n",
    "    params_dict = zip(net.state_dict().keys(), parameters)\n",
    "    state_dict = OrderedDict({k: torch.Tensor(v) for k, v in params_dict})\n",
    "    net.load_state_dict(state_dict, strict=True)\n",
    "\n",
    "\n",
    "class FlowerClient(fl.client.NumPyClient):\n",
    "    def __init__(self, net, train_dataloader, val_dataloader):\n",
    "        self.net = net\n",
    "        self.train_dataloader = train_dataloader\n",
    "        self.val_dataloader = val_dataloader\n",
    "\n",
    "    def get_parameters(self, config):\n",
    "        return get_parameters(self.net)\n",
    "\n",
    "    def fit(self, parameters, config):\n",
    "        set_parameters(self.net, parameters)\n",
    "        train(self.net, self.train_dataloader, epochs=1)\n",
    "        return get_parameters(self.net), len(self.train_dataloader), {}\n",
    "\n",
    "    def evaluate(self, parameters, config):\n",
    "        set_parameters(self.net, parameters)\n",
    "        loss = test(self.net, self.val_dataloader)\n",
    "        return float(loss), len(self.val_dataloader), {'loss': loss}\n",
    "\n",
    "\n",
    "device = torch.device('cpu' if torch.cuda.is_available() else 'cpu')\n",
    "train_datas, val_datas = spilt_train_test()\n",
    "train_dataloaders, val_dataloaders = [], []\n",
    "for i in tqdm(range(FedCFG.num_clients), bar_format=\"{l_bar}{bar}{r_bar}\"):\n",
    "    train_datasets = MovieLensDataset(train_datas[i], mode='train')\n",
    "    val_datasets = MovieLensDataset(val_datas[i], mode='test')\n",
    "    train_dataloaders.append(\n",
    "        DataLoader(train_datasets, batch_size=64, shuffle=True))\n",
    "    val_dataloaders.append(\n",
    "        DataLoader(val_datasets, batch_size=64, shuffle=False))\n",
    "\n",
    "\n",
    "def client_fn(cid: str) -> FlowerClient:\n",
    "    # Load model\n",
    "    net = Net(device)\n",
    "\n",
    "    train_dataloader = train_dataloaders[int(cid)]\n",
    "    val_dataloader = val_dataloaders[int(cid)]\n",
    "\n",
    "    return FlowerClient(net, train_dataloader, val_dataloader)\n",
    "\n",
    "\n",
    "strategy = fl.server.strategy.FedAvg(\n",
    "    fraction_fit=1.0,\n",
    "    fraction_evaluate=0.5,\n",
    "    min_fit_clients=10,\n",
    "    min_evaluate_clients=5,\n",
    "    min_available_clients=10,\n",
    ")\n",
    "\n",
    "client_resources = None\n",
    "if device.type == \"cuda\":\n",
    "    client_resources = {\"num_gpus\": 1, 'num_cpus': 2}\n",
    "\n",
    "fl.simulation.start_simulation(\n",
    "    client_fn=client_fn,\n",
    "    num_clients=FedCFG.num_clients,\n",
    "    config=fl.server.ServerConfig(num_rounds=5),\n",
    "    strategy=strategy,\n",
    "    client_resources=client_resources,\n",
    ")"
   ]
  },
  {
   "cell_type": "code",
   "execution_count": 37,
   "metadata": {},
   "outputs": [],
   "source": [
    "# trains, tests = spilt_train_test('ratings_data_process_0001.csv')\n",
    "# display(trains[1].head())\n",
    "\n",
    "# device = torch.device('cuda:1' if torch.cuda.is_available() else 'cpu')\n",
    "\n",
    "# ratings_train, ratings_test = spilt_train_test('ratings_data_process_0001.csv')\n",
    "# train_dataset = MovieLensDataset(ratings_train, mode='train')\n",
    "# test_dataset = MovieLensDataset(ratings_test, mode='test')\n",
    "\n",
    "# train_dataloader = DataLoader(train_dataset, batch_size=32, shuffle=True)\n",
    "# test_dataloader = DataLoader(test_dataset, batch_size=1, shuffle=False)\n",
    "\n",
    "# model = Net(device)\n",
    "# optimizer = torch.optim.SGD(\n",
    "#     filter(lambda p: p.requires_grad, model.parameters()), lr=0.01)\n",
    "# criterion = nn.MSELoss()\n",
    "\n",
    "# for epoch in range(5):\n",
    "#     for batch in tqdm(train_dataloader, total=len(train_dataloader)):\n",
    "#         user_id, user_behavior, movie_id, movie_title, movie_genre, label = batch\n",
    "#         label = torch.tensor(label).float().to(device)\n",
    "#         optimizer.zero_grad()\n",
    "#         out = model(user_id, user_behavior, movie_id, movie_title, movie_genre)\n",
    "#         loss = criterion(out, label)\n",
    "#         loss.backward()\n",
    "#         optimizer.step()\n",
    "#     print(\"epoch:{},loss:{}\".format(epoch, loss.item()))"
   ]
  },
  {
   "cell_type": "code",
   "execution_count": 38,
   "metadata": {},
   "outputs": [],
   "source": [
    "# device = torch.device('cuda:1' if torch.cuda.is_available() else 'cpu')\n",
    "# model = SentenceTransformer('models/all_datasets_v4_MiniLM-L6')\n",
    "# for _ in tqdm(range(10000)):\n",
    "#     text1 = 'dsadsad sdasdasdas dsadas'\n",
    "#     encode1 = torch.tensor(model.encode(text1, device=device))"
   ]
  }
 ],
 "metadata": {
  "kernelspec": {
   "display_name": "flower",
   "language": "python",
   "name": "python3"
  },
  "language_info": {
   "codemirror_mode": {
    "name": "ipython",
    "version": 3
   },
   "file_extension": ".py",
   "mimetype": "text/x-python",
   "name": "python",
   "nbconvert_exporter": "python",
   "pygments_lexer": "ipython3",
   "version": "3.9.18"
  },
  "orig_nbformat": 4
 },
 "nbformat": 4,
 "nbformat_minor": 2
}
