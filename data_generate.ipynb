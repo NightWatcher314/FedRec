{
 "cells": [
  {
   "cell_type": "code",
   "execution_count": 21,
   "metadata": {},
   "outputs": [],
   "source": [
    "import pandas as pd\n",
    "import numpy as np\n",
    "import torch\n",
    "import torch.nn as nn\n",
    "import torch.nn.functional as F\n",
    "import os\n",
    "from tqdm import tqdm\n",
    "from torch.utils.data import Dataset, DataLoader\n",
    "from sentence_transformers import SentenceTransformer\n",
    "np.random.seed(42)"
   ]
  },
  {
   "cell_type": "code",
   "execution_count": 22,
   "metadata": {},
   "outputs": [],
   "source": [
    "class DatasetCFG:\n",
    "    data_root = 'ml-1m'\n",
    "    user_chosen_num = 1000\n",
    "    num_negatives = 4"
   ]
  },
  {
   "cell_type": "markdown",
   "metadata": {},
   "source": [
    "### 获取训练数据\n"
   ]
  },
  {
   "cell_type": "code",
   "execution_count": 23,
   "metadata": {},
   "outputs": [],
   "source": [
    "# def data_preprocess():\n",
    "#     ratings_path = os.path.join(DatasetCFG.data_root, 'ratings.csv')\n",
    "#     movies_path = os.path.join(DatasetCFG.data_root, 'movies.csv')\n",
    "#     ratings_data = pd.read_csv(ratings_path)\n",
    "#     movies_data = pd.read_csv(movies_path)\n",
    "\n",
    "#     # random_user_ids=np.random.choice(ratings_data['userId'].unique(),\n",
    "#     #                             size=int(len(ratings_data['userId'].unique())*0.001),\n",
    "#     #                             replace=False)\n",
    "#     # ratings_data=ratings_data[ratings_data['userId'].isin(random_user_ids)]\n",
    "\n",
    "#     ratings_data = ratings_data.merge(movies_data, on='movieId')\n",
    "#     ratings_data['rank_latest'] = ratings_data.groupby(\n",
    "#         ['userId'])['timestamp'].rank(method='first', ascending=True)\n",
    "\n",
    "#     ratings_data = ratings_data.sort_values(['userId', 'rank_latest'], ascending=[\n",
    "#                                             True, False]).reset_index(drop=True)\n",
    "\n",
    "#     for _, group in tqdm(ratings_data.groupby('userId'), total=len(ratings_data['userId'].unique())):\n",
    "#         user_behavior_list = []\n",
    "#         for _, row in group.iterrows():\n",
    "#             user_behavior = \" \".join(\n",
    "#                 map(str, group[group['rank_latest'] < row['rank_latest']]['movieId'].to_list()))\n",
    "#             if user_behavior == '':\n",
    "#                 user_behavior = ' '\n",
    "#             user_behavior_list.append(user_behavior)\n",
    "#         ratings_data.loc[group.index, 'user_behavior'] = user_behavior_list\n",
    "\n",
    "#     ratings_data.to_csv(os.path.join(DatasetCFG.data_root,\n",
    "#                         'ratings_data_process_1.csv'), index=False)\n",
    "\n",
    "\n",
    "# def data_process_with_genome():\n",
    "#     ratings_data = pd.read_csv(os.path.join(\n",
    "#         DatasetCFG.data_root, 'ratings_data_process_1.csv'))\n",
    "#     genome_scores_data = pd.read_csv(os.path.join(\n",
    "#         DatasetCFG.data_root, 'genome-scores.csv'))\n",
    "#     genome_tags_data = pd.read_csv(os.path.join(\n",
    "#         DatasetCFG.data_root, 'genome-tags.csv'))\n",
    "\n",
    "#     genome_scores_data = genome_scores_data.merge(genome_tags_data, on='tagId')\n",
    "#     genome_scores_data = genome_scores_data.pivot(\n",
    "#         index='movieId', columns='tag', values='relevance')\n",
    "#     genome_scores_data = genome_scores_data.reset_index()\n",
    "\n",
    "#     ratings_data = ratings_data.merge(genome_scores_data, on='movieId')\n",
    "#     ratings_data.to_csv(os.path.join(DatasetCFG.data_root,\n",
    "#                         'ratings_data_process_2.csv'), index=False)"
   ]
  },
  {
   "cell_type": "code",
   "execution_count": 24,
   "metadata": {},
   "outputs": [],
   "source": [
    "# data_preprocess()\n",
    "movies = pd.read_csv(os.path.join(DatasetCFG.data_root, \"movies.dat\"), sep=\"::\", names=[\n",
    "    \"movieId\", \"title\", \"genres\"], engine=\"python\", encoding=\"ISO-8859-1\")\n",
    "ratings = pd.read_csv(os.path.join(DatasetCFG.data_root, \"ratings.dat\"), sep=\"::\", names=[\n",
    "    \"userId\", \"movieId\", \"rating\", \"timestamp\"], engine=\"python\", encoding=\"ISO-8859-1\")\n",
    "users = pd.read_csv(os.path.join(DatasetCFG.data_root, \"users.dat\"), sep=\"::\", names=[\n",
    "    \"userId\", \"gender\", \"age\", \"occupation\", \"zipCode\"], engine=\"python\", encoding=\"ISO-8859-1\")\n",
    "\n",
    "df = movies.merge(ratings, on='movieId')\n",
    "df = df.merge(users, on='userId')\n",
    "df.head()\n",
    "df.to_csv(os.path.join(DatasetCFG.data_root,\n",
    "                       'ratings_data_process.csv'), index=False)"
   ]
  }
 ],
 "metadata": {
  "kernelspec": {
   "display_name": "flower",
   "language": "python",
   "name": "python3"
  },
  "language_info": {
   "codemirror_mode": {
    "name": "ipython",
    "version": 3
   },
   "file_extension": ".py",
   "mimetype": "text/x-python",
   "name": "python",
   "nbconvert_exporter": "python",
   "pygments_lexer": "ipython3",
   "version": "3.9.18"
  },
  "orig_nbformat": 4
 },
 "nbformat": 4,
 "nbformat_minor": 2
}
